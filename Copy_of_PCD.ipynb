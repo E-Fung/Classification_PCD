{
  "nbformat": 4,
  "nbformat_minor": 0,
  "metadata": {
    "colab": {
      "name": "Copy of PCD.ipynb",
      "provenance": [],
      "collapsed_sections": [],
      "toc_visible": true,
      "authorship_tag": "ABX9TyNHAbgYbHEy0qx+r5Cr4BmV",
      "include_colab_link": true
    },
    "kernelspec": {
      "name": "python3",
      "display_name": "Python 3"
    }
  },
  "cells": [
    {
      "cell_type": "markdown",
      "metadata": {
        "id": "view-in-github",
        "colab_type": "text"
      },
      "source": [
        "<a href=\"https://colab.research.google.com/github/E-Fung/Classification_PCD/blob/main/Copy_of_PCD.ipynb\" target=\"_parent\"><img src=\"https://colab.research.google.com/assets/colab-badge.svg\" alt=\"Open In Colab\"/></a>"
      ]
    },
    {
      "cell_type": "markdown",
      "metadata": {
        "id": "Qykfyy_vnxwK"
      },
      "source": [
        "# **INITIALIZE LIBRARIES AND FINAL FILE NAMES**"
      ]
    },
    {
      "cell_type": "code",
      "metadata": {
        "id": "CwX7Wo5C23-n",
        "colab": {
          "base_uri": "https://localhost:8080/"
        },
        "outputId": "ff451786-f174-44ed-d5af-66a8083cc5ed"
      },
      "source": [
        "#########################################################################################################################################################################\r\n",
        "#   Initialize libraries and such\r\n",
        "#########################################################################################################################################################################\r\n",
        "\r\n",
        "%tensorflow_version 2.x  # this line is not required unless you are in a notebook\r\n",
        "from __future__ import absolute_import, division, print_function, unicode_literals\r\n",
        "from mpl_toolkits.mplot3d import Axes3D\r\n",
        "from google.colab import files\r\n",
        "import seaborn as sns\r\n",
        "import tensorflow as tf\r\n",
        "import tensorflow_datasets as tfds\r\n",
        "import matplotlib.pyplot as plt\r\n",
        "import numpy as np\r\n",
        "import pandas as pd\r\n",
        "import io\r\n",
        "import math\r\n",
        "\r\n",
        "# Print versions\r\n",
        "!python --versions\r\n",
        "print('Numpy ' + np.__version__)\r\n",
        "print('TensorFlow ' + tf.__version__)\r\n",
        "print('Keras ' + tf.keras.__version__)\r\n",
        "\r\n",
        "tflite_model_name = 'PCD_Model'\r\n",
        "c_model_name = 'PCD_Model'\r\n",
        "\r\n",
        "#########################################################################################################################################################################"
      ],
      "execution_count": 1,
      "outputs": [
        {
          "output_type": "stream",
          "text": [
            "`%tensorflow_version` only switches the major version: 1.x or 2.x.\n",
            "You set: `2.x  # this line is not required unless you are in a notebook`. This will be interpreted as: `2.x`.\n",
            "\n",
            "\n",
            "TensorFlow 2.x selected.\n",
            "unknown option --versions\n",
            "usage: python3 [option] ... [-c cmd | -m mod | file | -] [arg] ...\n",
            "Try `python -h' for more information.\n",
            "Numpy 1.19.5\n",
            "TensorFlow 2.4.1\n",
            "Keras 2.4.0\n"
          ],
          "name": "stdout"
        }
      ]
    },
    {
      "cell_type": "markdown",
      "metadata": {
        "id": "JA_bgfoyn8MT"
      },
      "source": [
        "# **UPLOADING**"
      ]
    },
    {
      "cell_type": "code",
      "metadata": {
        "id": "e1pZ-yRi2jNk",
        "colab": {
          "resources": {
            "http://localhost:8080/nbextensions/google.colab/files.js": {
              "data": "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",
              "ok": true,
              "headers": [
                [
                  "content-type",
                  "application/javascript"
                ]
              ],
              "status": 200,
              "status_text": ""
            }
          },
          "base_uri": "https://localhost:8080/",
          "height": 444
        },
        "outputId": "20b72c4e-6e22-4c32-93a6-6e1b94998c1f"
      },
      "source": [
        "#########################################################################################################################################################################\r\n",
        "#   Uploading Files\r\n",
        "#########################################################################################################################################################################\r\n",
        "\r\n",
        "file_name = 'person_b_1'\r\n",
        "uploaded = files.upload()\r\n",
        "pd.read_csv(io.StringIO(uploaded[file_name+'.csv'].decode('utf-8')))\r\n",
        "\r\n",
        "#########################################################################################################################################################################"
      ],
      "execution_count": 16,
      "outputs": [
        {
          "output_type": "display_data",
          "data": {
            "text/html": [
              "\n",
              "     <input type=\"file\" id=\"files-32c4ca50-9379-4654-960d-690f6e32fae6\" name=\"files[]\" multiple disabled\n",
              "        style=\"border:none\" />\n",
              "     <output id=\"result-32c4ca50-9379-4654-960d-690f6e32fae6\">\n",
              "      Upload widget is only available when the cell has been executed in the\n",
              "      current browser session. Please rerun this cell to enable.\n",
              "      </output>\n",
              "      <script src=\"/nbextensions/google.colab/files.js\"></script> "
            ],
            "text/plain": [
              "<IPython.core.display.HTML object>"
            ]
          },
          "metadata": {
            "tags": []
          }
        },
        {
          "output_type": "stream",
          "text": [
            "Saving person_b_1.csv to person_b_1.csv\n"
          ],
          "name": "stdout"
        },
        {
          "output_type": "execute_result",
          "data": {
            "text/html": [
              "<div>\n",
              "<style scoped>\n",
              "    .dataframe tbody tr th:only-of-type {\n",
              "        vertical-align: middle;\n",
              "    }\n",
              "\n",
              "    .dataframe tbody tr th {\n",
              "        vertical-align: top;\n",
              "    }\n",
              "\n",
              "    .dataframe thead th {\n",
              "        text-align: right;\n",
              "    }\n",
              "</style>\n",
              "<table border=\"1\" class=\"dataframe\">\n",
              "  <thead>\n",
              "    <tr style=\"text-align: right;\">\n",
              "      <th></th>\n",
              "      <th>x1</th>\n",
              "      <th>y1</th>\n",
              "      <th>z1</th>\n",
              "      <th>x2</th>\n",
              "      <th>y2</th>\n",
              "      <th>z2</th>\n",
              "      <th>x3</th>\n",
              "      <th>y3</th>\n",
              "      <th>z3</th>\n",
              "      <th>x4</th>\n",
              "      <th>y4</th>\n",
              "      <th>z4</th>\n",
              "      <th>Class</th>\n",
              "    </tr>\n",
              "  </thead>\n",
              "  <tbody>\n",
              "    <tr>\n",
              "      <th>0</th>\n",
              "      <td>7.51</td>\n",
              "      <td>2.26</td>\n",
              "      <td>28.41</td>\n",
              "      <td>1.94</td>\n",
              "      <td>27.88</td>\n",
              "      <td>6.00</td>\n",
              "      <td>-22.10</td>\n",
              "      <td>0.78</td>\n",
              "      <td>-30.62</td>\n",
              "      <td>-48.37</td>\n",
              "      <td>-22.61</td>\n",
              "      <td>4.15</td>\n",
              "      <td>0</td>\n",
              "    </tr>\n",
              "    <tr>\n",
              "      <th>1</th>\n",
              "      <td>7.50</td>\n",
              "      <td>2.28</td>\n",
              "      <td>28.39</td>\n",
              "      <td>1.91</td>\n",
              "      <td>27.89</td>\n",
              "      <td>5.99</td>\n",
              "      <td>-22.15</td>\n",
              "      <td>0.76</td>\n",
              "      <td>-30.60</td>\n",
              "      <td>-48.36</td>\n",
              "      <td>-22.62</td>\n",
              "      <td>4.15</td>\n",
              "      <td>0</td>\n",
              "    </tr>\n",
              "    <tr>\n",
              "      <th>2</th>\n",
              "      <td>7.48</td>\n",
              "      <td>2.29</td>\n",
              "      <td>28.36</td>\n",
              "      <td>1.91</td>\n",
              "      <td>27.89</td>\n",
              "      <td>5.98</td>\n",
              "      <td>-22.18</td>\n",
              "      <td>0.76</td>\n",
              "      <td>-30.57</td>\n",
              "      <td>-48.36</td>\n",
              "      <td>-22.63</td>\n",
              "      <td>4.15</td>\n",
              "      <td>0</td>\n",
              "    </tr>\n",
              "    <tr>\n",
              "      <th>3</th>\n",
              "      <td>7.47</td>\n",
              "      <td>2.29</td>\n",
              "      <td>28.32</td>\n",
              "      <td>1.91</td>\n",
              "      <td>27.89</td>\n",
              "      <td>5.98</td>\n",
              "      <td>-22.21</td>\n",
              "      <td>0.77</td>\n",
              "      <td>-30.56</td>\n",
              "      <td>-48.36</td>\n",
              "      <td>-22.62</td>\n",
              "      <td>4.14</td>\n",
              "      <td>0</td>\n",
              "    </tr>\n",
              "    <tr>\n",
              "      <th>4</th>\n",
              "      <td>7.48</td>\n",
              "      <td>2.29</td>\n",
              "      <td>28.28</td>\n",
              "      <td>1.91</td>\n",
              "      <td>27.89</td>\n",
              "      <td>5.99</td>\n",
              "      <td>-22.23</td>\n",
              "      <td>0.75</td>\n",
              "      <td>-30.56</td>\n",
              "      <td>-48.36</td>\n",
              "      <td>-22.60</td>\n",
              "      <td>4.12</td>\n",
              "      <td>0</td>\n",
              "    </tr>\n",
              "    <tr>\n",
              "      <th>...</th>\n",
              "      <td>...</td>\n",
              "      <td>...</td>\n",
              "      <td>...</td>\n",
              "      <td>...</td>\n",
              "      <td>...</td>\n",
              "      <td>...</td>\n",
              "      <td>...</td>\n",
              "      <td>...</td>\n",
              "      <td>...</td>\n",
              "      <td>...</td>\n",
              "      <td>...</td>\n",
              "      <td>...</td>\n",
              "      <td>...</td>\n",
              "    </tr>\n",
              "    <tr>\n",
              "      <th>16515</th>\n",
              "      <td>142.88</td>\n",
              "      <td>-5.14</td>\n",
              "      <td>30.28</td>\n",
              "      <td>-7.47</td>\n",
              "      <td>29.45</td>\n",
              "      <td>8.88</td>\n",
              "      <td>104.87</td>\n",
              "      <td>2.64</td>\n",
              "      <td>-31.93</td>\n",
              "      <td>-112.28</td>\n",
              "      <td>-27.32</td>\n",
              "      <td>-5.44</td>\n",
              "      <td>3</td>\n",
              "    </tr>\n",
              "    <tr>\n",
              "      <th>16516</th>\n",
              "      <td>142.65</td>\n",
              "      <td>-4.81</td>\n",
              "      <td>30.02</td>\n",
              "      <td>-7.39</td>\n",
              "      <td>29.25</td>\n",
              "      <td>8.50</td>\n",
              "      <td>104.85</td>\n",
              "      <td>2.34</td>\n",
              "      <td>-31.65</td>\n",
              "      <td>-112.39</td>\n",
              "      <td>-27.18</td>\n",
              "      <td>-5.17</td>\n",
              "      <td>3</td>\n",
              "    </tr>\n",
              "    <tr>\n",
              "      <th>16517</th>\n",
              "      <td>142.35</td>\n",
              "      <td>-4.28</td>\n",
              "      <td>29.70</td>\n",
              "      <td>-7.27</td>\n",
              "      <td>29.02</td>\n",
              "      <td>7.95</td>\n",
              "      <td>104.86</td>\n",
              "      <td>1.87</td>\n",
              "      <td>-31.32</td>\n",
              "      <td>-112.55</td>\n",
              "      <td>-26.99</td>\n",
              "      <td>-4.75</td>\n",
              "      <td>3</td>\n",
              "    </tr>\n",
              "    <tr>\n",
              "      <th>16518</th>\n",
              "      <td>142.19</td>\n",
              "      <td>-3.92</td>\n",
              "      <td>29.52</td>\n",
              "      <td>-7.21</td>\n",
              "      <td>28.90</td>\n",
              "      <td>7.61</td>\n",
              "      <td>104.88</td>\n",
              "      <td>1.56</td>\n",
              "      <td>-31.15</td>\n",
              "      <td>-112.63</td>\n",
              "      <td>-26.86</td>\n",
              "      <td>-4.45</td>\n",
              "      <td>3</td>\n",
              "    </tr>\n",
              "    <tr>\n",
              "      <th>16519</th>\n",
              "      <td>142.02</td>\n",
              "      <td>-3.55</td>\n",
              "      <td>29.35</td>\n",
              "      <td>-7.11</td>\n",
              "      <td>28.78</td>\n",
              "      <td>7.23</td>\n",
              "      <td>104.93</td>\n",
              "      <td>1.22</td>\n",
              "      <td>-30.98</td>\n",
              "      <td>-112.68</td>\n",
              "      <td>-26.72</td>\n",
              "      <td>-4.09</td>\n",
              "      <td>3</td>\n",
              "    </tr>\n",
              "  </tbody>\n",
              "</table>\n",
              "<p>16520 rows × 13 columns</p>\n",
              "</div>"
            ],
            "text/plain": [
              "           x1    y1     z1    x2     y2  ...     z3      x4     y4    z4  Class\n",
              "0        7.51  2.26  28.41  1.94  27.88  ... -30.62  -48.37 -22.61  4.15      0\n",
              "1        7.50  2.28  28.39  1.91  27.89  ... -30.60  -48.36 -22.62  4.15      0\n",
              "2        7.48  2.29  28.36  1.91  27.89  ... -30.57  -48.36 -22.63  4.15      0\n",
              "3        7.47  2.29  28.32  1.91  27.89  ... -30.56  -48.36 -22.62  4.14      0\n",
              "4        7.48  2.29  28.28  1.91  27.89  ... -30.56  -48.36 -22.60  4.12      0\n",
              "...       ...   ...    ...   ...    ...  ...    ...     ...    ...   ...    ...\n",
              "16515  142.88 -5.14  30.28 -7.47  29.45  ... -31.93 -112.28 -27.32 -5.44      3\n",
              "16516  142.65 -4.81  30.02 -7.39  29.25  ... -31.65 -112.39 -27.18 -5.17      3\n",
              "16517  142.35 -4.28  29.70 -7.27  29.02  ... -31.32 -112.55 -26.99 -4.75      3\n",
              "16518  142.19 -3.92  29.52 -7.21  28.90  ... -31.15 -112.63 -26.86 -4.45      3\n",
              "16519  142.02 -3.55  29.35 -7.11  28.78  ... -30.98 -112.68 -26.72 -4.09      3\n",
              "\n",
              "[16520 rows x 13 columns]"
            ]
          },
          "metadata": {
            "tags": []
          },
          "execution_count": 16
        }
      ]
    },
    {
      "cell_type": "markdown",
      "metadata": {
        "id": "ai8pZ_-3oClZ"
      },
      "source": [
        "# **PROCESSING**"
      ]
    },
    {
      "cell_type": "code",
      "metadata": {
        "id": "P7PSIBCDgXXV",
        "colab": {
          "base_uri": "https://localhost:8080/",
          "height": 265
        },
        "outputId": "3ffc085c-7fbb-466e-fe0d-b60765110287"
      },
      "source": [
        "#########################################################################################################################################################################\r\n",
        "#   This block of code is for processing the data\r\n",
        "#########################################################################################################################################################################\r\n",
        "\r\n",
        "train_row_increments = 5\r\n",
        "test_row_increments = 30\r\n",
        "\r\n",
        "#Initialize dataframes for storing the data and combine them to increase effectiveness of model\r\n",
        "data1 = pd.read_csv('data_G01.csv')\r\n",
        "data2 = pd.read_csv('data_G02.csv')\r\n",
        "test_data = 'person_b_1'\r\n",
        "data_combined = pd.concat([data1,data2],ignore_index=True)\r\n",
        "\r\n",
        "#Process the data::Sample every 'train_row_increments' row (IMUs give data very frequently so the data is very similar)\r\n",
        "# data = data_combined[1::train_row_increments]\r\n",
        "data=data1\r\n",
        "data_shuffled = data.sample(frac=1).reset_index(drop=True)\r\n",
        "data_shuffled.Class.hist(bins=20) #displays the histogram based on posture\r\n",
        "posture = data_shuffled.pop('Class')\r\n",
        "data_shuffled = data_shuffled/180\r\n",
        "\r\n",
        "#Split the data into 3 sets:: Training, Validation(used to check against overfitting, you dont want training accuracy to be over validation) \r\n",
        "val_ratio = 0.2     # Percentage of samples that should be held for validation set\r\n",
        "test_ratio = 0.2    # Percentage of samples that should be held for test set\r\n",
        "length = data.shape[0]\r\n",
        "val_split = int(val_ratio * length)\r\n",
        "test_split = int(val_split + (test_ratio * length))\r\n",
        "x_val, x_test, x_train = np.split(data_shuffled, [val_split, test_split])\r\n",
        "y_val, y_test, y_train = np.split(posture, [val_split, test_split])\r\n",
        "assert(x_train.size + x_val.size + x_test.size) == data_shuffled.size\r\n",
        "\r\n",
        "#Process the data for the testing data (This will be data from a new user that has never had their data in the training set)\r\n",
        "test = pd.read_csv(test_data+'.csv')\r\n",
        "test = test [1::test_row_increments]\r\n",
        "test = test.sample(frac=1).reset_index(drop=True)\r\n",
        "test_pop = test.pop('Class')\r\n",
        "test = test / 180\r\n",
        "\r\n",
        "#########################################################################################################################################################################"
      ],
      "execution_count": 17,
      "outputs": [
        {
          "output_type": "display_data",
          "data": {
            "image/png": "[encoded data removed]",
            "text/plain": [
              "<Figure size 432x288 with 1 Axes>"
            ]
          },
          "metadata": {
            "tags": [],
            "needs_background": "light"
          }
        }
      ]
    },
    {
      "cell_type": "markdown",
      "metadata": {
        "id": "pA5_-TdtoF_8"
      },
      "source": [
        "# **TRAINING**"
      ]
    },
    {
      "cell_type": "code",
      "metadata": {
        "colab": {
          "base_uri": "https://localhost:8080/",
          "height": 1000
        },
        "id": "ctSnkzEK1nCv",
        "outputId": "d4c4ed54-1539-48ff-9957-dc896cc60bca"
      },
      "source": [
        "#########################################################################################################################################################################\r\n",
        "#   This block of code is for trying different model configurations and seeing what works best\r\n",
        "#########################################################################################################################################################################\r\n",
        "\r\n",
        "#Affects the range of layers that the models will have and how much times we want to test that setup\r\n",
        "i_range = 2\r\n",
        "j_range = 2\r\n",
        "k_range = 1\r\n",
        "\r\n",
        "hidden_layer_1 = 100\r\n",
        "hidden_layer_2 = 50\r\n",
        "hidden_layer_1_interval = 10\r\n",
        "hidden_layer_2_interval = 3\r\n",
        "\r\n",
        "starting_num_epochs = 20\r\n",
        "\r\n",
        "dropout_percent = 0.15\r\n",
        "acceptable_accuracy = 0.9\r\n",
        "max_extra_epoch = 0\r\n",
        "#########################################################################################################################################################################\r\n",
        "\r\n",
        "curr_run = 0\r\n",
        "total_run = i_range*j_range*k_range \r\n",
        "\r\n",
        "#Test different configuration of models\r\n",
        "test_history =[]\r\n",
        "for i in range(0,i_range):\r\n",
        "  for j in range(0,j_range):\r\n",
        "    for k in range(0,k_range):\r\n",
        "      curr_run = curr_run + 1\r\n",
        "\r\n",
        "      #Creates the model structure and chooses the activation function for each layer\r\n",
        "      model = tf.keras.Sequential([\r\n",
        "          tf.keras.layers.Flatten(input_shape=(12,1)),\r\n",
        "          tf.keras.layers.Dense(hidden_layer_1+i*hidden_layer_1_interval, activation='relu'),  #hidden layers are generally: relu, sigmoide, tanh (Usually constant for all hidden layers)\r\n",
        "          tf.keras.layers.Dropout(dropout_percent),\r\n",
        "          tf.keras.layers.Dense(hidden_layer_2+j*hidden_layer_2_interval, activation='relu'),  \r\n",
        "          tf.keras.layers.Dropout(dropout_percent),\r\n",
        "          tf.keras.layers.Dense(5, activation='sigmoid'), #output layers are generally: linear, sigmoid, softmax\r\n",
        "      ])\r\n",
        "      model.summary()\r\n",
        "\r\n",
        "      #Assign type of: optimizer, loss, and metric\r\n",
        "      model.compile(optimizer='adam',loss=tf.keras.losses.SparseCategoricalCrossentropy(from_logits=True),metrics=['accuracy'])\r\n",
        "      \r\n",
        "      #Print out which loop we are undergoing\r\n",
        "      print(curr_run)\r\n",
        "      print(\"out of \")\r\n",
        "      print(total_run)\r\n",
        "\r\n",
        "      #Train the model with the training data and save the information in history\r\n",
        "      history = model.fit(x_train,y_train,epochs=starting_num_epochs,validation_data=(x_val, y_val))\r\n",
        "\r\n",
        "      # Plot the training history, you dont want the training loss to get lower than the validation loss (this indicates over-fitting)\r\n",
        "      loss = history.history['loss']\r\n",
        "      val_loss = history.history['val_loss']\r\n",
        "\r\n",
        "      #Sometimes the model is not trained to an \"acceptable\" accuracy, this ofc relies on good data but we can keep training the model \r\n",
        "      curr_accuracy = history.history.get('accuracy')\r\n",
        "      added_epoch = 0\r\n",
        "      while curr_accuracy[len(curr_accuracy)-1] <acceptable_accuracy and added_epoch<max_extra_epoch:\r\n",
        "        added_epoch = added_epoch +1\r\n",
        "        history = model.fit(x_train,y_train,epochs=1,validation_data=(x_val, y_val))\r\n",
        "        curr_accuracy = history.history.get('accuracy')\r\n",
        "        loss.append(history.history['loss'][0])\r\n",
        "        val_loss.append(history.history['val_loss'][0])\r\n",
        "      total_epochs = starting_num_epochs + added_epoch\r\n",
        "      epochs = np.arange(1,total_epochs+1)\r\n",
        "      plt.plot(epochs, loss, 'bo', label='Training loss')\r\n",
        "      plt.plot(epochs, val_loss, 'r', label='Validation loss')\r\n",
        "      plt.title('Training and validation loss')\r\n",
        "      plt.legend()\r\n",
        "      plt.show()\r\n",
        "\r\n",
        "      test_loss, test_acc = model.evaluate(x_test,  y_test, verbose=2)\r\n",
        "      print('\\nTest accuracy:', test_acc)\r\n",
        "\r\n",
        "      #Test the model with unseen data and record the settings\r\n",
        "      test_loss, test_acc = model.evaluate(test,  test_pop, verbose=2)\r\n",
        "      print('\\nTest accuracy:', test_acc)\r\n",
        "      test_history.append([test_acc,hidden_layer_1+i*hidden_layer_1_interval,hidden_layer_2+j*hidden_layer_2_interval])\r\n",
        "\r\n",
        "      #create a confusion matrix to see model performance\r\n",
        "      predictions = model.predict(test)\r\n",
        "      predictions = np.argmax(predictions,axis = 1)\r\n",
        "      confusion_mtx = tf.math.confusion_matrix(\r\n",
        "          test_pop, predictions, 5, weights=None, dtype=tf.dtypes.int32,\r\n",
        "          name='PCD_Confusion_Matrix'\r\n",
        "      )\r\n",
        "      plt.figure(figsize=(10, 8))\r\n",
        "      sns.heatmap(confusion_mtx,annot=True, fmt='g')\r\n",
        "      plt.xlabel('Prediction')\r\n",
        "      plt.ylabel('Label')\r\n",
        "      plt.show()\r\n",
        "#########################################################################################################################################################################"
      ],
      "execution_count": 20,
      "outputs": [
        {
          "output_type": "stream",
          "text": [
            "Model: \"sequential_12\"\n",
            "_________________________________________________________________\n",
            "Layer (type)                 Output Shape              Param #   \n",
            "=================================================================\n",
            "flatten_12 (Flatten)         (None, 12)                0         \n",
            "_________________________________________________________________\n",
            "dense_36 (Dense)             (None, 100)               1300      \n",
            "_________________________________________________________________\n",
            "dropout_14 (Dropout)         (None, 100)               0         \n",
            "_________________________________________________________________\n",
            "dense_37 (Dense)             (None, 50)                5050      \n",
            "_________________________________________________________________\n",
            "dropout_15 (Dropout)         (None, 50)                0         \n",
            "_________________________________________________________________\n",
            "dense_38 (Dense)             (None, 5)                 255       \n",
            "=================================================================\n",
            "Total params: 6,605\n",
            "Trainable params: 6,605\n",
            "Non-trainable params: 0\n",
            "_________________________________________________________________\n",
            "1\n",
            "out of \n",
            "4\n",
            "Epoch 1/20\n",
            "448/448 [==============================] - 2s 2ms/step - loss: 1.2243 - accuracy: 0.5369 - val_loss: 0.5876 - val_accuracy: 0.7906\n",
            "Epoch 2/20\n",
            "448/448 [==============================] - 1s 2ms/step - loss: 0.5986 - accuracy: 0.7915 - val_loss: 0.4253 - val_accuracy: 0.8534\n",
            "Epoch 3/20\n",
            "448/448 [==============================] - 1s 2ms/step - loss: 0.4616 - accuracy: 0.8343 - val_loss: 0.3185 - val_accuracy: 0.8989\n",
            "Epoch 4/20\n",
            "448/448 [==============================] - 1s 2ms/step - loss: 0.3659 - accuracy: 0.8755 - val_loss: 0.2403 - val_accuracy: 0.9269\n",
            "Epoch 5/20\n",
            "448/448 [==============================] - 1s 2ms/step - loss: 0.3060 - accuracy: 0.8960 - val_loss: 0.1920 - val_accuracy: 0.9374\n",
            "Epoch 6/20\n",
            "448/448 [==============================] - 1s 2ms/step - loss: 0.2486 - accuracy: 0.9181 - val_loss: 0.1530 - val_accuracy: 0.9474\n",
            "Epoch 7/20\n",
            "448/448 [==============================] - 1s 2ms/step - loss: 0.2213 - accuracy: 0.9255 - val_loss: 0.1265 - val_accuracy: 0.9627\n",
            "Epoch 8/20\n",
            "448/448 [==============================] - 1s 2ms/step - loss: 0.1812 - accuracy: 0.9425 - val_loss: 0.0985 - val_accuracy: 0.9711\n",
            "Epoch 9/20\n",
            "448/448 [==============================] - 1s 2ms/step - loss: 0.1616 - accuracy: 0.9480 - val_loss: 0.0751 - val_accuracy: 0.9828\n",
            "Epoch 10/20\n",
            "448/448 [==============================] - 1s 2ms/step - loss: 0.1313 - accuracy: 0.9565 - val_loss: 0.0603 - val_accuracy: 0.9866\n",
            "Epoch 11/20\n",
            "448/448 [==============================] - 1s 2ms/step - loss: 0.1166 - accuracy: 0.9653 - val_loss: 0.0475 - val_accuracy: 0.9899\n",
            "Epoch 12/20\n",
            "448/448 [==============================] - 1s 2ms/step - loss: 0.0979 - accuracy: 0.9715 - val_loss: 0.0401 - val_accuracy: 0.9912\n",
            "Epoch 13/20\n",
            "448/448 [==============================] - 1s 2ms/step - loss: 0.0863 - accuracy: 0.9737 - val_loss: 0.0312 - val_accuracy: 0.9925\n",
            "Epoch 14/20\n",
            "448/448 [==============================] - 1s 2ms/step - loss: 0.0773 - accuracy: 0.9744 - val_loss: 0.0271 - val_accuracy: 0.9931\n",
            "Epoch 15/20\n",
            "448/448 [==============================] - 1s 2ms/step - loss: 0.0660 - accuracy: 0.9793 - val_loss: 0.0222 - val_accuracy: 0.9958\n",
            "Epoch 16/20\n",
            "448/448 [==============================] - 1s 2ms/step - loss: 0.0600 - accuracy: 0.9809 - val_loss: 0.0175 - val_accuracy: 0.9977\n",
            "Epoch 17/20\n",
            "448/448 [==============================] - 1s 2ms/step - loss: 0.0583 - accuracy: 0.9807 - val_loss: 0.0151 - val_accuracy: 0.9973\n",
            "Epoch 18/20\n",
            "448/448 [==============================] - 1s 2ms/step - loss: 0.0454 - accuracy: 0.9858 - val_loss: 0.0162 - val_accuracy: 0.9958\n",
            "Epoch 19/20\n",
            "448/448 [==============================] - 1s 2ms/step - loss: 0.0417 - accuracy: 0.9873 - val_loss: 0.0115 - val_accuracy: 0.9973\n",
            "Epoch 20/20\n",
            "448/448 [==============================] - 1s 2ms/step - loss: 0.0400 - accuracy: 0.9880 - val_loss: 0.0105 - val_accuracy: 0.9992\n"
          ],
          "name": "stdout"
        },
        {
          "output_type": "display_data",
          "data": {
            "image/png": "[encoded data removed]",
            "text/plain": [
              "<Figure size 432x288 with 1 Axes>"
            ]
          },
          "metadata": {
            "tags": [],
            "needs_background": "light"
          }
        },
        {
          "output_type": "stream",
          "text": [
            "150/150 - 0s - loss: 0.0107 - accuracy: 0.9990\n",
            "\n",
            "Test accuracy: 0.998953104019165\n",
            "18/18 - 0s - loss: 2.3873 - accuracy: 0.3757\n",
            "\n",
            "Test accuracy: 0.3756805956363678\n"
          ],
          "name": "stdout"
        },
        {
          "output_type": "display_data",
          "data": {
            "image/png": "[encoded data removed]",
            "text/plain": [
              "<Figure size 720x576 with 2 Axes>"
            ]
          },
          "metadata": {
            "tags": [],
            "needs_background": "light"
          }
        },
        {
          "output_type": "stream",
          "text": [
            "Model: \"sequential_13\"\n",
            "_________________________________________________________________\n",
            "Layer (type)                 Output Shape              Param #   \n",
            "=================================================================\n",
            "flatten_13 (Flatten)         (None, 12)                0         \n",
            "_________________________________________________________________\n",
            "dense_39 (Dense)             (None, 100)               1300      \n",
            "_________________________________________________________________\n",
            "dropout_16 (Dropout)         (None, 100)               0         \n",
            "_________________________________________________________________\n",
            "dense_40 (Dense)             (None, 53)                5353      \n",
            "_________________________________________________________________\n",
            "dropout_17 (Dropout)         (None, 53)                0         \n",
            "_________________________________________________________________\n",
            "dense_41 (Dense)             (None, 5)                 270       \n",
            "=================================================================\n",
            "Total params: 6,923\n",
            "Trainable params: 6,923\n",
            "Non-trainable params: 0\n",
            "_________________________________________________________________\n",
            "2\n",
            "out of \n",
            "4\n",
            "Epoch 1/20\n",
            "448/448 [==============================] - 1s 2ms/step - loss: 1.2268 - accuracy: 0.5403 - val_loss: 0.5906 - val_accuracy: 0.8026\n",
            "Epoch 2/20\n",
            "448/448 [==============================] - 1s 2ms/step - loss: 0.5863 - accuracy: 0.7933 - val_loss: 0.4106 - val_accuracy: 0.8469\n",
            "Epoch 3/20\n",
            "448/448 [==============================] - 1s 2ms/step - loss: 0.4369 - accuracy: 0.8513 - val_loss: 0.3085 - val_accuracy: 0.8886\n",
            "Epoch 4/20\n",
            "448/448 [==============================] - 1s 2ms/step - loss: 0.3432 - accuracy: 0.8771 - val_loss: 0.2346 - val_accuracy: 0.9263\n",
            "Epoch 5/20\n",
            "235/448 [==============>...............] - ETA: 0s - loss: 0.2995 - accuracy: 0.8990"
          ],
          "name": "stdout"
        },
        {
          "output_type": "error",
          "ename": "KeyboardInterrupt",
          "evalue": "ignored",
          "traceback": [
            "\u001b[0;31m---------------------------------------------------------------------------\u001b[0m",
            "\u001b[0;31mKeyboardInterrupt\u001b[0m                         Traceback (most recent call last)",
            "\u001b[0;32m<ipython-input-20-0f3d91d99946>\u001b[0m in \u001b[0;36m<module>\u001b[0;34m()\u001b[0m\n\u001b[1;32m     50\u001b[0m \u001b[0;34m\u001b[0m\u001b[0m\n\u001b[1;32m     51\u001b[0m       \u001b[0;31m#Train the model with the training data and save the information in history\u001b[0m\u001b[0;34m\u001b[0m\u001b[0;34m\u001b[0m\u001b[0;34m\u001b[0m\u001b[0m\n\u001b[0;32m---> 52\u001b[0;31m       \u001b[0mhistory\u001b[0m \u001b[0;34m=\u001b[0m \u001b[0mmodel\u001b[0m\u001b[0;34m.\u001b[0m\u001b[0mfit\u001b[0m\u001b[0;34m(\u001b[0m\u001b[0mx_train\u001b[0m\u001b[0;34m,\u001b[0m\u001b[0my_train\u001b[0m\u001b[0;34m,\u001b[0m\u001b[0mepochs\u001b[0m\u001b[0;34m=\u001b[0m\u001b[0mstarting_num_epochs\u001b[0m\u001b[0;34m,\u001b[0m\u001b[0mvalidation_data\u001b[0m\u001b[0;34m=\u001b[0m\u001b[0;34m(\u001b[0m\u001b[0mx_val\u001b[0m\u001b[0;34m,\u001b[0m \u001b[0my_val\u001b[0m\u001b[0;34m)\u001b[0m\u001b[0;34m)\u001b[0m\u001b[0;34m\u001b[0m\u001b[0;34m\u001b[0m\u001b[0m\n\u001b[0m\u001b[1;32m     53\u001b[0m \u001b[0;34m\u001b[0m\u001b[0m\n\u001b[1;32m     54\u001b[0m       \u001b[0;31m# Plot the training history, you dont want the training loss to get lower than the validation loss (this indicates over-fitting)\u001b[0m\u001b[0;34m\u001b[0m\u001b[0;34m\u001b[0m\u001b[0;34m\u001b[0m\u001b[0m\n",
            "\u001b[0;32m/usr/local/lib/python3.7/dist-packages/tensorflow/python/keras/engine/training.py\u001b[0m in \u001b[0;36mfit\u001b[0;34m(self, x, y, batch_size, epochs, verbose, callbacks, validation_split, validation_data, shuffle, class_weight, sample_weight, initial_epoch, steps_per_epoch, validation_steps, validation_batch_size, validation_freq, max_queue_size, workers, use_multiprocessing)\u001b[0m\n\u001b[1;32m   1098\u001b[0m                 _r=1):\n\u001b[1;32m   1099\u001b[0m               \u001b[0mcallbacks\u001b[0m\u001b[0;34m.\u001b[0m\u001b[0mon_train_batch_begin\u001b[0m\u001b[0;34m(\u001b[0m\u001b[0mstep\u001b[0m\u001b[0;34m)\u001b[0m\u001b[0;34m\u001b[0m\u001b[0;34m\u001b[0m\u001b[0m\n\u001b[0;32m-> 1100\u001b[0;31m               \u001b[0mtmp_logs\u001b[0m \u001b[0;34m=\u001b[0m \u001b[0mself\u001b[0m\u001b[0;34m.\u001b[0m\u001b[0mtrain_function\u001b[0m\u001b[0;34m(\u001b[0m\u001b[0miterator\u001b[0m\u001b[0;34m)\u001b[0m\u001b[0;34m\u001b[0m\u001b[0;34m\u001b[0m\u001b[0m\n\u001b[0m\u001b[1;32m   1101\u001b[0m               \u001b[0;32mif\u001b[0m \u001b[0mdata_handler\u001b[0m\u001b[0;34m.\u001b[0m\u001b[0mshould_sync\u001b[0m\u001b[0;34m:\u001b[0m\u001b[0;34m\u001b[0m\u001b[0;34m\u001b[0m\u001b[0m\n\u001b[1;32m   1102\u001b[0m                 \u001b[0mcontext\u001b[0m\u001b[0;34m.\u001b[0m\u001b[0masync_wait\u001b[0m\u001b[0;34m(\u001b[0m\u001b[0;34m)\u001b[0m\u001b[0;34m\u001b[0m\u001b[0;34m\u001b[0m\u001b[0m\n",
            "\u001b[0;32m/usr/local/lib/python3.7/dist-packages/tensorflow/python/eager/def_function.py\u001b[0m in \u001b[0;36m__call__\u001b[0;34m(self, *args, **kwds)\u001b[0m\n\u001b[1;32m    826\u001b[0m     \u001b[0mtracing_count\u001b[0m \u001b[0;34m=\u001b[0m \u001b[0mself\u001b[0m\u001b[0;34m.\u001b[0m\u001b[0mexperimental_get_tracing_count\u001b[0m\u001b[0;34m(\u001b[0m\u001b[0;34m)\u001b[0m\u001b[0;34m\u001b[0m\u001b[0;34m\u001b[0m\u001b[0m\n\u001b[1;32m    827\u001b[0m     \u001b[0;32mwith\u001b[0m \u001b[0mtrace\u001b[0m\u001b[0;34m.\u001b[0m\u001b[0mTrace\u001b[0m\u001b[0;34m(\u001b[0m\u001b[0mself\u001b[0m\u001b[0;34m.\u001b[0m\u001b[0m_name\u001b[0m\u001b[0;34m)\u001b[0m \u001b[0;32mas\u001b[0m \u001b[0mtm\u001b[0m\u001b[0;34m:\u001b[0m\u001b[0;34m\u001b[0m\u001b[0;34m\u001b[0m\u001b[0m\n\u001b[0;32m--> 828\u001b[0;31m       \u001b[0mresult\u001b[0m \u001b[0;34m=\u001b[0m \u001b[0mself\u001b[0m\u001b[0;34m.\u001b[0m\u001b[0m_call\u001b[0m\u001b[0;34m(\u001b[0m\u001b[0;34m*\u001b[0m\u001b[0margs\u001b[0m\u001b[0;34m,\u001b[0m \u001b[0;34m**\u001b[0m\u001b[0mkwds\u001b[0m\u001b[0;34m)\u001b[0m\u001b[0;34m\u001b[0m\u001b[0;34m\u001b[0m\u001b[0m\n\u001b[0m\u001b[1;32m    829\u001b[0m       \u001b[0mcompiler\u001b[0m \u001b[0;34m=\u001b[0m \u001b[0;34m\"xla\"\u001b[0m \u001b[0;32mif\u001b[0m \u001b[0mself\u001b[0m\u001b[0;34m.\u001b[0m\u001b[0m_experimental_compile\u001b[0m \u001b[0;32melse\u001b[0m \u001b[0;34m\"nonXla\"\u001b[0m\u001b[0;34m\u001b[0m\u001b[0;34m\u001b[0m\u001b[0m\n\u001b[1;32m    830\u001b[0m       \u001b[0mnew_tracing_count\u001b[0m \u001b[0;34m=\u001b[0m \u001b[0mself\u001b[0m\u001b[0;34m.\u001b[0m\u001b[0mexperimental_get_tracing_count\u001b[0m\u001b[0;34m(\u001b[0m\u001b[0;34m)\u001b[0m\u001b[0;34m\u001b[0m\u001b[0;34m\u001b[0m\u001b[0m\n",
            "\u001b[0;32m/usr/local/lib/python3.7/dist-packages/tensorflow/python/eager/def_function.py\u001b[0m in \u001b[0;36m_call\u001b[0;34m(self, *args, **kwds)\u001b[0m\n\u001b[1;32m    853\u001b[0m       \u001b[0;31m# In this case we have created variables on the first call, so we run the\u001b[0m\u001b[0;34m\u001b[0m\u001b[0;34m\u001b[0m\u001b[0;34m\u001b[0m\u001b[0m\n\u001b[1;32m    854\u001b[0m       \u001b[0;31m# defunned version which is guaranteed to never create variables.\u001b[0m\u001b[0;34m\u001b[0m\u001b[0;34m\u001b[0m\u001b[0;34m\u001b[0m\u001b[0m\n\u001b[0;32m--> 855\u001b[0;31m       \u001b[0;32mreturn\u001b[0m \u001b[0mself\u001b[0m\u001b[0;34m.\u001b[0m\u001b[0m_stateless_fn\u001b[0m\u001b[0;34m(\u001b[0m\u001b[0;34m*\u001b[0m\u001b[0margs\u001b[0m\u001b[0;34m,\u001b[0m \u001b[0;34m**\u001b[0m\u001b[0mkwds\u001b[0m\u001b[0;34m)\u001b[0m  \u001b[0;31m# pylint: disable=not-callable\u001b[0m\u001b[0;34m\u001b[0m\u001b[0;34m\u001b[0m\u001b[0m\n\u001b[0m\u001b[1;32m    856\u001b[0m     \u001b[0;32melif\u001b[0m \u001b[0mself\u001b[0m\u001b[0;34m.\u001b[0m\u001b[0m_stateful_fn\u001b[0m \u001b[0;32mis\u001b[0m \u001b[0;32mnot\u001b[0m \u001b[0;32mNone\u001b[0m\u001b[0;34m:\u001b[0m\u001b[0;34m\u001b[0m\u001b[0;34m\u001b[0m\u001b[0m\n\u001b[1;32m    857\u001b[0m       \u001b[0;31m# Release the lock early so that multiple threads can perform the call\u001b[0m\u001b[0;34m\u001b[0m\u001b[0;34m\u001b[0m\u001b[0;34m\u001b[0m\u001b[0m\n",
            "\u001b[0;32m/usr/local/lib/python3.7/dist-packages/tensorflow/python/eager/function.py\u001b[0m in \u001b[0;36m__call__\u001b[0;34m(self, *args, **kwargs)\u001b[0m\n\u001b[1;32m   2941\u001b[0m        filtered_flat_args) = self._maybe_define_function(args, kwargs)\n\u001b[1;32m   2942\u001b[0m     return graph_function._call_flat(\n\u001b[0;32m-> 2943\u001b[0;31m         filtered_flat_args, captured_inputs=graph_function.captured_inputs)  # pylint: disable=protected-access\n\u001b[0m\u001b[1;32m   2944\u001b[0m \u001b[0;34m\u001b[0m\u001b[0m\n\u001b[1;32m   2945\u001b[0m   \u001b[0;34m@\u001b[0m\u001b[0mproperty\u001b[0m\u001b[0;34m\u001b[0m\u001b[0;34m\u001b[0m\u001b[0m\n",
            "\u001b[0;32m/usr/local/lib/python3.7/dist-packages/tensorflow/python/eager/function.py\u001b[0m in \u001b[0;36m_call_flat\u001b[0;34m(self, args, captured_inputs, cancellation_manager)\u001b[0m\n\u001b[1;32m   1917\u001b[0m       \u001b[0;31m# No tape is watching; skip to running the function.\u001b[0m\u001b[0;34m\u001b[0m\u001b[0;34m\u001b[0m\u001b[0;34m\u001b[0m\u001b[0m\n\u001b[1;32m   1918\u001b[0m       return self._build_call_outputs(self._inference_function.call(\n\u001b[0;32m-> 1919\u001b[0;31m           ctx, args, cancellation_manager=cancellation_manager))\n\u001b[0m\u001b[1;32m   1920\u001b[0m     forward_backward = self._select_forward_and_backward_functions(\n\u001b[1;32m   1921\u001b[0m         \u001b[0margs\u001b[0m\u001b[0;34m,\u001b[0m\u001b[0;34m\u001b[0m\u001b[0;34m\u001b[0m\u001b[0m\n",
            "\u001b[0;32m/usr/local/lib/python3.7/dist-packages/tensorflow/python/eager/function.py\u001b[0m in \u001b[0;36mcall\u001b[0;34m(self, ctx, args, cancellation_manager)\u001b[0m\n\u001b[1;32m    558\u001b[0m               \u001b[0minputs\u001b[0m\u001b[0;34m=\u001b[0m\u001b[0margs\u001b[0m\u001b[0;34m,\u001b[0m\u001b[0;34m\u001b[0m\u001b[0;34m\u001b[0m\u001b[0m\n\u001b[1;32m    559\u001b[0m               \u001b[0mattrs\u001b[0m\u001b[0;34m=\u001b[0m\u001b[0mattrs\u001b[0m\u001b[0;34m,\u001b[0m\u001b[0;34m\u001b[0m\u001b[0;34m\u001b[0m\u001b[0m\n\u001b[0;32m--> 560\u001b[0;31m               ctx=ctx)\n\u001b[0m\u001b[1;32m    561\u001b[0m         \u001b[0;32melse\u001b[0m\u001b[0;34m:\u001b[0m\u001b[0;34m\u001b[0m\u001b[0;34m\u001b[0m\u001b[0m\n\u001b[1;32m    562\u001b[0m           outputs = execute.execute_with_cancellation(\n",
            "\u001b[0;32m/usr/local/lib/python3.7/dist-packages/tensorflow/python/eager/execute.py\u001b[0m in \u001b[0;36mquick_execute\u001b[0;34m(op_name, num_outputs, inputs, attrs, ctx, name)\u001b[0m\n\u001b[1;32m     58\u001b[0m     \u001b[0mctx\u001b[0m\u001b[0;34m.\u001b[0m\u001b[0mensure_initialized\u001b[0m\u001b[0;34m(\u001b[0m\u001b[0;34m)\u001b[0m\u001b[0;34m\u001b[0m\u001b[0;34m\u001b[0m\u001b[0m\n\u001b[1;32m     59\u001b[0m     tensors = pywrap_tfe.TFE_Py_Execute(ctx._handle, device_name, op_name,\n\u001b[0;32m---> 60\u001b[0;31m                                         inputs, attrs, num_outputs)\n\u001b[0m\u001b[1;32m     61\u001b[0m   \u001b[0;32mexcept\u001b[0m \u001b[0mcore\u001b[0m\u001b[0;34m.\u001b[0m\u001b[0m_NotOkStatusException\u001b[0m \u001b[0;32mas\u001b[0m \u001b[0me\u001b[0m\u001b[0;34m:\u001b[0m\u001b[0;34m\u001b[0m\u001b[0;34m\u001b[0m\u001b[0m\n\u001b[1;32m     62\u001b[0m     \u001b[0;32mif\u001b[0m \u001b[0mname\u001b[0m \u001b[0;32mis\u001b[0m \u001b[0;32mnot\u001b[0m \u001b[0;32mNone\u001b[0m\u001b[0;34m:\u001b[0m\u001b[0;34m\u001b[0m\u001b[0;34m\u001b[0m\u001b[0m\n",
            "\u001b[0;31mKeyboardInterrupt\u001b[0m: "
          ]
        }
      ]
    },
    {
      "cell_type": "code",
      "metadata": {
        "id": "AAmgXaS1EtBO",
        "colab": {
          "base_uri": "https://localhost:8080/",
          "height": 369
        },
        "outputId": "6d400257-5bf6-42eb-cef1-901efcaf7c8c"
      },
      "source": [
        "# d0 = []\r\n",
        "# d0.append(len(data_shuffled[data_shuffled.Class==0]))\r\n",
        "# d0.append(len(data_shuffled[data_shuffled.Class==1]))\r\n",
        "# d0.append(len(data_shuffled[data_shuffled.Class==2]))\r\n",
        "# d0.append(len(data_shuffled[data_shuffled.Class==3]))\r\n",
        "# d0.append(len(data_shuffled[data_shuffled.Class==4]))\r\n",
        "# per_class = min(d0)"
      ],
      "execution_count": 7,
      "outputs": [
        {
          "output_type": "error",
          "ename": "AttributeError",
          "evalue": "ignored",
          "traceback": [
            "\u001b[0;31m---------------------------------------------------------------------------\u001b[0m",
            "\u001b[0;31mAttributeError\u001b[0m                            Traceback (most recent call last)",
            "\u001b[0;32m<ipython-input-7-f91ae1d01633>\u001b[0m in \u001b[0;36m<module>\u001b[0;34m()\u001b[0m\n\u001b[1;32m      1\u001b[0m \u001b[0md0\u001b[0m \u001b[0;34m=\u001b[0m \u001b[0;34m[\u001b[0m\u001b[0;34m]\u001b[0m\u001b[0;34m\u001b[0m\u001b[0;34m\u001b[0m\u001b[0m\n\u001b[0;32m----> 2\u001b[0;31m \u001b[0md0\u001b[0m\u001b[0;34m.\u001b[0m\u001b[0mappend\u001b[0m\u001b[0;34m(\u001b[0m\u001b[0mlen\u001b[0m\u001b[0;34m(\u001b[0m\u001b[0mdata_shuffled\u001b[0m\u001b[0;34m[\u001b[0m\u001b[0mdata_shuffled\u001b[0m\u001b[0;34m.\u001b[0m\u001b[0mClass\u001b[0m\u001b[0;34m==\u001b[0m\u001b[0;36m0\u001b[0m\u001b[0;34m]\u001b[0m\u001b[0;34m)\u001b[0m\u001b[0;34m)\u001b[0m\u001b[0;34m\u001b[0m\u001b[0;34m\u001b[0m\u001b[0m\n\u001b[0m\u001b[1;32m      3\u001b[0m \u001b[0md0\u001b[0m\u001b[0;34m.\u001b[0m\u001b[0mappend\u001b[0m\u001b[0;34m(\u001b[0m\u001b[0mlen\u001b[0m\u001b[0;34m(\u001b[0m\u001b[0mdata_shuffled\u001b[0m\u001b[0;34m[\u001b[0m\u001b[0mdata_shuffled\u001b[0m\u001b[0;34m.\u001b[0m\u001b[0mClass\u001b[0m\u001b[0;34m==\u001b[0m\u001b[0;36m1\u001b[0m\u001b[0;34m]\u001b[0m\u001b[0;34m)\u001b[0m\u001b[0;34m)\u001b[0m\u001b[0;34m\u001b[0m\u001b[0;34m\u001b[0m\u001b[0m\n\u001b[1;32m      4\u001b[0m \u001b[0md0\u001b[0m\u001b[0;34m.\u001b[0m\u001b[0mappend\u001b[0m\u001b[0;34m(\u001b[0m\u001b[0mlen\u001b[0m\u001b[0;34m(\u001b[0m\u001b[0mdata_shuffled\u001b[0m\u001b[0;34m[\u001b[0m\u001b[0mdata_shuffled\u001b[0m\u001b[0;34m.\u001b[0m\u001b[0mClass\u001b[0m\u001b[0;34m==\u001b[0m\u001b[0;36m2\u001b[0m\u001b[0;34m]\u001b[0m\u001b[0;34m)\u001b[0m\u001b[0;34m)\u001b[0m\u001b[0;34m\u001b[0m\u001b[0;34m\u001b[0m\u001b[0m\n\u001b[1;32m      5\u001b[0m \u001b[0md0\u001b[0m\u001b[0;34m.\u001b[0m\u001b[0mappend\u001b[0m\u001b[0;34m(\u001b[0m\u001b[0mlen\u001b[0m\u001b[0;34m(\u001b[0m\u001b[0mdata_shuffled\u001b[0m\u001b[0;34m[\u001b[0m\u001b[0mdata_shuffled\u001b[0m\u001b[0;34m.\u001b[0m\u001b[0mClass\u001b[0m\u001b[0;34m==\u001b[0m\u001b[0;36m3\u001b[0m\u001b[0;34m]\u001b[0m\u001b[0;34m)\u001b[0m\u001b[0;34m)\u001b[0m\u001b[0;34m\u001b[0m\u001b[0;34m\u001b[0m\u001b[0m\n",
            "\u001b[0;32m/usr/local/lib/python3.7/dist-packages/pandas/core/generic.py\u001b[0m in \u001b[0;36m__getattr__\u001b[0;34m(self, name)\u001b[0m\n\u001b[1;32m   5139\u001b[0m             \u001b[0;32mif\u001b[0m \u001b[0mself\u001b[0m\u001b[0;34m.\u001b[0m\u001b[0m_info_axis\u001b[0m\u001b[0;34m.\u001b[0m\u001b[0m_can_hold_identifiers_and_holds_name\u001b[0m\u001b[0;34m(\u001b[0m\u001b[0mname\u001b[0m\u001b[0;34m)\u001b[0m\u001b[0;34m:\u001b[0m\u001b[0;34m\u001b[0m\u001b[0;34m\u001b[0m\u001b[0m\n\u001b[1;32m   5140\u001b[0m                 \u001b[0;32mreturn\u001b[0m \u001b[0mself\u001b[0m\u001b[0;34m[\u001b[0m\u001b[0mname\u001b[0m\u001b[0;34m]\u001b[0m\u001b[0;34m\u001b[0m\u001b[0;34m\u001b[0m\u001b[0m\n\u001b[0;32m-> 5141\u001b[0;31m             \u001b[0;32mreturn\u001b[0m \u001b[0mobject\u001b[0m\u001b[0;34m.\u001b[0m\u001b[0m__getattribute__\u001b[0m\u001b[0;34m(\u001b[0m\u001b[0mself\u001b[0m\u001b[0;34m,\u001b[0m \u001b[0mname\u001b[0m\u001b[0;34m)\u001b[0m\u001b[0;34m\u001b[0m\u001b[0;34m\u001b[0m\u001b[0m\n\u001b[0m\u001b[1;32m   5142\u001b[0m \u001b[0;34m\u001b[0m\u001b[0m\n\u001b[1;32m   5143\u001b[0m     \u001b[0;32mdef\u001b[0m \u001b[0m__setattr__\u001b[0m\u001b[0;34m(\u001b[0m\u001b[0mself\u001b[0m\u001b[0;34m,\u001b[0m \u001b[0mname\u001b[0m\u001b[0;34m:\u001b[0m \u001b[0mstr\u001b[0m\u001b[0;34m,\u001b[0m \u001b[0mvalue\u001b[0m\u001b[0;34m)\u001b[0m \u001b[0;34m->\u001b[0m \u001b[0;32mNone\u001b[0m\u001b[0;34m:\u001b[0m\u001b[0;34m\u001b[0m\u001b[0;34m\u001b[0m\u001b[0m\n",
            "\u001b[0;31mAttributeError\u001b[0m: 'DataFrame' object has no attribute 'Class'"
          ]
        }
      ]
    },
    {
      "cell_type": "markdown",
      "metadata": {
        "id": "SE1bOWLenGDz"
      },
      "source": [
        "# **CONVERT**"
      ]
    },
    {
      "cell_type": "code",
      "metadata": {
        "colab": {
          "base_uri": "https://localhost:8080/"
        },
        "id": "iT4YypbHIMur",
        "outputId": "3be8b3d8-1833-4ed8-93ea-3b807010e3fb"
      },
      "source": [
        "#########################################################################################################################################################################\r\n",
        "#   Optimize the model for size and convert to tflite model\r\n",
        "#########################################################################################################################################################################\r\n",
        "\r\n",
        "#Covert the model to a tflite model & optimize to reduce the size\r\n",
        "converter = tf.lite.TFLiteConverter.from_keras_model(model)\r\n",
        "converter.optimizations = [tf.lite.Optimize.OPTIMIZE_FOR_SIZE]\r\n",
        "tflite_model = converter.convert()\r\n",
        "open(tflite_model_name + '.tflite', 'wb').write(tflite_model)\r\n",
        "\r\n",
        "#########################################################################################################################################################################"
      ],
      "execution_count": null,
      "outputs": [
        {
          "output_type": "stream",
          "text": [
            "INFO:tensorflow:Assets written to: /tmp/tmpcv6mtfxp/assets\n"
          ],
          "name": "stdout"
        },
        {
          "output_type": "execute_result",
          "data": {
            "text/plain": [
              "10192"
            ]
          },
          "metadata": {
            "tags": []
          },
          "execution_count": 52
        }
      ]
    },
    {
      "cell_type": "code",
      "metadata": {
        "id": "fUP0qeH6IAGZ"
      },
      "source": [
        "#########################################################################################################################################################################\r\n",
        "#   Function to convert tflite file to C header file\r\n",
        "#########################################################################################################################################################################\r\n",
        "\r\n",
        "# Function: Convert some hex value into an array for C programming\r\n",
        "def hex_to_c_array(hex_data, var_name):\r\n",
        "\r\n",
        "  c_str = ''\r\n",
        "\r\n",
        "  # Create header guard\r\n",
        "  c_str += '#ifndef ' + var_name.upper() + '_H\\n'\r\n",
        "  c_str += '#define ' + var_name.upper() + '_H\\n\\n'\r\n",
        "\r\n",
        "  # Add array length at top of file\r\n",
        "  c_str += '\\nunsigned int ' + var_name + '_len = ' + str(len(hex_data)) + ';\\n'\r\n",
        "\r\n",
        "  # Declare C variable\r\n",
        "  c_str += 'unsigned char ' + var_name + '[] = {'\r\n",
        "  hex_array = []\r\n",
        "  for i, val in enumerate(hex_data) :\r\n",
        "\r\n",
        "    # Construct string from hex\r\n",
        "    hex_str = format(val, '#04x')\r\n",
        "\r\n",
        "    # Add formatting so each line stays within 80 characters\r\n",
        "    if (i + 1) < len(hex_data):\r\n",
        "      hex_str += ','\r\n",
        "    if (i + 1) % 12 == 0:\r\n",
        "      hex_str += '\\n '\r\n",
        "    hex_array.append(hex_str)\r\n",
        "\r\n",
        "  # Add closing brace\r\n",
        "  c_str += '\\n ' + format(' '.join(hex_array)) + '\\n};\\n\\n'\r\n",
        "\r\n",
        "  # Close out header guard\r\n",
        "  c_str += '#endif //' + var_name.upper() + '_H'\r\n",
        "\r\n",
        "  return c_str\r\n",
        "\r\n",
        "#########################################################################################################################################################################"
      ],
      "execution_count": null,
      "outputs": []
    },
    {
      "cell_type": "code",
      "metadata": {
        "id": "gch2Y9f9IB1E"
      },
      "source": [
        "#########################################################################################################################################################################\r\n",
        "#   Convert to c-header file via function\r\n",
        "#########################################################################################################################################################################\r\n",
        "\r\n",
        "# Write TFLite model to a C source (or header) file\r\n",
        "with open(c_model_name + '.h', 'w') as file:\r\n",
        "  file.write(hex_to_c_array(tflite_model, c_model_name))\r\n",
        "\r\n",
        "#########################################################################################################################################################################"
      ],
      "execution_count": null,
      "outputs": []
    }
  ]
}