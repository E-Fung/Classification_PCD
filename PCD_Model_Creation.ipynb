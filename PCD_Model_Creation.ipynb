{
  "nbformat": 4,
  "nbformat_minor": 0,
  "metadata": {
    "colab": {
      "name": "PCD_Model_Creation.ipynb",
      "provenance": [],
      "collapsed_sections": [],
      "authorship_tag": "ABX9TyNCBjfp5cGfQLd7BdvlhbJO",
      "include_colab_link": true
    },
    "kernelspec": {
      "name": "python3",
      "display_name": "Python 3"
    }
  },
  "cells": [
    {
      "cell_type": "markdown",
      "metadata": {
        "id": "view-in-github",
        "colab_type": "text"
      },
      "source": [
        "<a href=\"https://colab.research.google.com/github/E-Fung/Classification_PCD/blob/main/PCD_Model_Creation.ipynb\" target=\"_parent\"><img src=\"https://colab.research.google.com/assets/colab-badge.svg\" alt=\"Open In Colab\"/></a>"
      ]
    },
    {
      "cell_type": "markdown",
      "metadata": {
        "id": "Qykfyy_vnxwK"
      },
      "source": [
        "# **INITIALIZE LIBRARIES AND MODEL NAMES**"
      ]
    },
    {
      "cell_type": "code",
      "metadata": {
        "id": "CwX7Wo5C23-n",
        "colab": {
          "base_uri": "https://localhost:8080/"
        },
        "outputId": "bd37fa41-df75-4d25-d696-73d229f7711e"
      },
      "source": [
        "#########################################################################################################################################################################\n",
        "#   Initialize libraries and such\n",
        "#########################################################################################################################################################################\n",
        "\n",
        "%tensorflow_version 2.x  # this line is not required unless you are in a notebook\n",
        "from __future__ import absolute_import, division, print_function, unicode_literals\n",
        "from mpl_toolkits.mplot3d import Axes3D\n",
        "from google.colab import files\n",
        "import seaborn as sns\n",
        "import tensorflow as tf\n",
        "import tensorflow_datasets as tfds\n",
        "import matplotlib.pyplot as plt\n",
        "import numpy as np\n",
        "import pandas as pd\n",
        "import math\n",
        "import io\n",
        "import os\n",
        "\n",
        "# Print versions\n",
        "!python --versions\n",
        "print('Numpy ' + np.__version__)\n",
        "print('TensorFlow ' + tf.__version__)\n",
        "print('Keras ' + tf.keras.__version__)\n",
        "\n",
        "tflite_model_name = 'PCD_Model'\n",
        "c_model_name = 'PCD_Model'\n",
        "\n",
        "#This is for gathering the metrics (accuracy % loss) for another set of values\n",
        "class AdditionalValidationSets(tf.keras.callbacks.Callback):\n",
        "    def __init__(self, validation_sets, verbose=0, batch_size=None):\n",
        "        \"\"\"\n",
        "        :param validation_sets:\n",
        "        a list of 3-tuples (validation_data, validation_targets, validation_set_name)\n",
        "        or 4-tuples (validation_data, validation_targets, sample_weights, validation_set_name)\n",
        "        :param verbose:\n",
        "        verbosity mode, 1 or 0\n",
        "        :param batch_size:\n",
        "        batch size to be used when evaluating on the additional datasets\n",
        "        \"\"\"\n",
        "        super(AdditionalValidationSets, self).__init__()\n",
        "        self.validation_sets = validation_sets\n",
        "        for validation_set in self.validation_sets:\n",
        "            if len(validation_set) not in [3, 4]:\n",
        "                raise ValueError()\n",
        "        self.epoch = []\n",
        "        self.history = {}\n",
        "        self.verbose = verbose\n",
        "        self.batch_size = batch_size\n",
        "\n",
        "    def on_train_begin(self, logs=None):\n",
        "        self.epoch = []\n",
        "        self.history = {}\n",
        "\n",
        "    def on_epoch_end(self, epoch, logs=None):\n",
        "        logs = logs or {}\n",
        "        self.epoch.append(epoch)\n",
        "\n",
        "        # record the same values as History() as well\n",
        "        for k, v in logs.items():\n",
        "            self.history.setdefault(k, []).append(v)\n",
        "\n",
        "        # evaluate on the additional validation sets\n",
        "        for validation_set in self.validation_sets:\n",
        "            if len(validation_set) == 3:\n",
        "                validation_data, validation_targets, validation_set_name = validation_set\n",
        "                sample_weights = None\n",
        "            elif len(validation_set) == 4:\n",
        "                validation_data, validation_targets, sample_weights, validation_set_name = validation_set\n",
        "            else:\n",
        "                raise ValueError()\n",
        "\n",
        "            results = self.model.evaluate(x=validation_data,\n",
        "                                          y=validation_targets,\n",
        "                                          verbose=self.verbose,\n",
        "                                          sample_weight=sample_weights,\n",
        "                                          batch_size=self.batch_size)\n",
        "\n",
        "            for metric, result in zip(self.model.metrics_names,results):\n",
        "                valuename = validation_set_name + '_' + metric\n",
        "                self.history.setdefault(valuename, []).append(result)\n",
        "\n",
        "#########################################################################################################################################################################"
      ],
      "execution_count": 1,
      "outputs": [
        {
          "output_type": "stream",
          "text": [
            "`%tensorflow_version` only switches the major version: 1.x or 2.x.\n",
            "You set: `2.x  # this line is not required unless you are in a notebook`. This will be interpreted as: `2.x`.\n",
            "\n",
            "\n",
            "TensorFlow 2.x selected.\n",
            "unknown option --versions\n",
            "usage: python3 [option] ... [-c cmd | -m mod | file | -] [arg] ...\n",
            "Try `python -h' for more information.\n",
            "Numpy 1.19.5\n",
            "TensorFlow 2.4.1\n",
            "Keras 2.4.0\n"
          ],
          "name": "stdout"
        }
      ]
    },
    {
      "cell_type": "markdown",
      "metadata": {
        "id": "JA_bgfoyn8MT"
      },
      "source": [
        "# **UPLOADING DATA**"
      ]
    },
    {
      "cell_type": "code",
      "metadata": {
        "id": "e1pZ-yRi2jNk",
        "colab": {
          "resources": {
            "http://localhost:8080/nbextensions/google.colab/files.js": {
              "data": "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",
              "ok": true,
              "headers": [
                [
                  "content-type",
                  "application/javascript"
                ]
              ],
              "status": 200,
              "status_text": ""
            }
          },
          "base_uri": "https://localhost:8080/",
          "height": 362
        },
        "outputId": "cf09790c-1bc7-42ea-db7c-5b62adf4f238"
      },
      "source": [
        "#########################################################################################################################################################################\n",
        "#   Uploading Files\n",
        "#########################################################################################################################################################################\n",
        "data_arr = ['data_n01','data_n02','data_n03','data_n04','data_n05','data_n06','data_n07','data_n08','data_n09','data_n10']\n",
        "file_name = data_arr\n",
        "#Change this to the name of the csv file you are uploading\n",
        "uploaded = files.upload()\n",
        "#########################################################################################################################################################################"
      ],
      "execution_count": 2,
      "outputs": [
        {
          "output_type": "display_data",
          "data": {
            "text/html": [
              "\n",
              "     <input type=\"file\" id=\"files-d5a1114e-23f8-4952-9dd8-0ef392863a37\" name=\"files[]\" multiple disabled\n",
              "        style=\"border:none\" />\n",
              "     <output id=\"result-d5a1114e-23f8-4952-9dd8-0ef392863a37\">\n",
              "      Upload widget is only available when the cell has been executed in the\n",
              "      current browser session. Please rerun this cell to enable.\n",
              "      </output>\n",
              "      <script src=\"/nbextensions/google.colab/files.js\"></script> "
            ],
            "text/plain": [
              "<IPython.core.display.HTML object>"
            ]
          },
          "metadata": {
            "tags": []
          }
        },
        {
          "output_type": "stream",
          "text": [
            "Saving data_n01.csv to data_n01.csv\n",
            "Saving data_n02.csv to data_n02.csv\n",
            "Saving data_n03.csv to data_n03.csv\n",
            "Saving data_n04.csv to data_n04.csv\n",
            "Saving data_n05.csv to data_n05.csv\n",
            "Saving data_n06.csv to data_n06.csv\n",
            "Saving data_n07.csv to data_n07.csv\n",
            "Saving data_n08.csv to data_n08.csv\n",
            "Saving data_n09.csv to data_n09.csv\n",
            "Saving data_n10.csv to data_n10.csv\n"
          ],
          "name": "stdout"
        }
      ]
    },
    {
      "cell_type": "code",
      "metadata": {
        "colab": {
          "base_uri": "https://localhost:8080/",
          "height": 282
        },
        "id": "qf1Ru_PAEv5S",
        "cellView": "code",
        "outputId": "0fcd1f52-e4e9-456b-9933-7c53c339b3e2"
      },
      "source": [
        "#Verify that the data files are unique and have around the same data for each posture\n",
        "data_arr = ['data_n01','data_n02','data_n03','data_n04','data_n05','data_n06','data_n07','data_n08','data_n09','data_n10']\n",
        "dd1 = 'data_n01'\n",
        "dd2 = 'data_n02'\n",
        "dd3 = 'data_n03'\n",
        "dd4 = 'data_n04'\n",
        "dd5 = 'data_n05'\n",
        "dd6 = 'data_n06'\n",
        "dd7 = 'data_n07'\n",
        "dd8 = 'data_n08'\n",
        "dd9 = 'data_n09'\n",
        "dd10 = 'data_n10'\n",
        "imp_dd1 = pd.read_csv(dd1+'.csv')\n",
        "imp_dd2 = pd.read_csv(dd2+'.csv')\n",
        "imp_dd3 = pd.read_csv(dd3+'.csv')\n",
        "imp_dd4 = pd.read_csv(dd4+'.csv')\n",
        "imp_dd5 = pd.read_csv(dd5+'.csv')\n",
        "imp_dd6 = pd.read_csv(dd6+'.csv')\n",
        "imp_dd7 = pd.read_csv(dd7+'.csv')\n",
        "imp_dd8 = pd.read_csv(dd8+'.csv')\n",
        "imp_dd9 = pd.read_csv(dd9+'.csv')\n",
        "imp_dd10 = pd.read_csv(dd10+'.csv')\n",
        "plt.subplot(2,5,1)\n",
        "imp_dd1.Class.hist()\n",
        "plt.subplot(2,5,2)\n",
        "imp_dd2.Class.hist()\n",
        "plt.subplot(2,5,3)\n",
        "imp_dd3.Class.hist()\n",
        "plt.subplot(2,5,4)\n",
        "imp_dd4.Class.hist()\n",
        "plt.subplot(2,5,5)\n",
        "imp_dd5.Class.hist()\n",
        "plt.subplot(2,5,6)\n",
        "imp_dd6.Class.hist()\n",
        "plt.subplot(2,5,7)\n",
        "imp_dd7.Class.hist()\n",
        "plt.subplot(2,5,8)\n",
        "imp_dd8.Class.hist()\n",
        "plt.subplot(2,5,9)\n",
        "imp_dd9.Class.hist()\n",
        "plt.subplot(2,5,10)\n",
        "imp_dd10.Class.hist()"
      ],
      "execution_count": null,
      "outputs": [
        {
          "output_type": "execute_result",
          "data": {
            "text/plain": [
              "<matplotlib.axes._subplots.AxesSubplot at 0x7f02f6550e10>"
            ]
          },
          "metadata": {
            "tags": []
          },
          "execution_count": 4
        },
        {
          "output_type": "display_data",
          "data": {
            "image/png": "[encoded data removed]",
            "text/plain": [
              "<Figure size 432x288 with 10 Axes>"
            ]
          },
          "metadata": {
            "tags": [],
            "needs_background": "light"
          }
        }
      ]
    },
    {
      "cell_type": "markdown",
      "metadata": {
        "id": "ai8pZ_-3oClZ"
      },
      "source": [
        "# **DATA PROCESSING**"
      ]
    },
    {
      "cell_type": "code",
      "metadata": {
        "id": "P7PSIBCDgXXV"
      },
      "source": [
        "#########################################################################################################################################################################\n",
        "#   This block of code is for processing the data, made into a function to implement n-fold cross validation\n",
        "#########################################################################################################################################################################\n",
        "\n",
        "def get_data(i,Relative_IMU,data_arr_val,ALL_BOOL,train_row_increments,test_row_increments):\n",
        "\n",
        "  #Initialize variables\n",
        "  test_data = data_arr_val[i]\n",
        "  print(\"Testing Data: \"+test_data)\n",
        "  train_data_combined = pd.DataFrame()\n",
        "\n",
        "  if ALL_BOOL:\n",
        "    if len(data_arr_val)>1:\n",
        "      data_arr_val.remove(data_arr_val[i])\n",
        "\n",
        "  for data_itr in range(0,len(data_arr_val)):\n",
        "    temp_data = pd.read_csv(data_arr_val[data_itr]+'.csv')\n",
        "    train_data_combined = pd.concat([train_data_combined,temp_data],ignore_index=True)\n",
        "\n",
        "  #Rearrange the data such that all IMUs share the \"same\" orientation, this allows us to try feeding relative IMU angles instead of raw IMU angles\n",
        "  if Relative_IMU:\n",
        "    temp = train_data_combined['x1']\n",
        "    train_data_combined['x1'] = train_data_combined['y1']*-1\n",
        "    train_data_combined['y1'] = temp\n",
        "    temp = train_data_combined['x2']\n",
        "    train_data_combined['x2']=train_data_combined['y2']\n",
        "    train_data_combined['y2']=temp\n",
        "    train_data_combined['x1'] = train_data_combined['x1']-train_data_combined['x3']\n",
        "    train_data_combined['y1'] = train_data_combined['y1']-train_data_combined['y3']\n",
        "    train_data_combined['z1'] = train_data_combined['z1']-train_data_combined['z3']\n",
        "    train_data_combined['x2'] = train_data_combined['x2']-train_data_combined['x3']\n",
        "    train_data_combined['y2'] = train_data_combined['y2']-train_data_combined['y3']\n",
        "    train_data_combined['z2'] = train_data_combined['z2']-train_data_combined['z3']\n",
        "    train_data_combined['x3'] = train_data_combined['x3']-train_data_combined['x4']\n",
        "    train_data_combined['y3'] = train_data_combined['y3']-train_data_combined['y4']\n",
        "    train_data_combined['z3'] = train_data_combined['z3']-train_data_combined['z4']\n",
        "\n",
        "  #Process the data::\n",
        "  train_data_sampled = train_data_combined[1::train_row_increments]#sample every few rows to improve training data (IMUs give data very frequently so the data is very similar)\n",
        "  data_shuffled = train_data_sampled.sample(frac=1).reset_index(drop=True)#shuffle it\n",
        "  d0 = data_shuffled.loc[data_shuffled['Class'] == 0]#split the data by their posture, the data remains ordered (post shuffle)\n",
        "  d1 = data_shuffled.loc[data_shuffled['Class'] == 1]\n",
        "  d2 = data_shuffled.loc[data_shuffled['Class'] == 2]\n",
        "  d3 = data_shuffled.loc[data_shuffled['Class'] == 3]\n",
        "  d4 = data_shuffled.loc[data_shuffled['Class'] == 4]\n",
        "  min_class = min(len(d0),len(d1),len(d2),len(d3),len(d4))\n",
        "  d0_split = d0.sample(frac=(min_class/len(d0)),random_state=1) #slice so that all postures have same number of data entries\n",
        "  d1_split = d1.sample(frac=(min_class/len(d1)),random_state=1) \n",
        "  d2_split = d2.sample(frac=(min_class/len(d2)),random_state=1) \n",
        "  d3_split = d3.sample(frac=(min_class/len(d3)),random_state=1) \n",
        "  d4_split = d4.sample(frac=(min_class/len(d4)),random_state=1) \n",
        "  data_final_combine = pd.concat([d0_split,d1_split,d2_split,d3_split,d4_split],ignore_index=True)#combine them\n",
        "  data_processed = data_final_combine.sample(frac=1).reset_index(drop=True)#shuffle again\n",
        "  posture_processed = data_processed.pop('Class')\n",
        "  data_processed = data_processed/180 #you want the data to be between -1 and 1, the IMU code restricts the angles between 180 and -180\n",
        "\n",
        "  global x_val,x_train,y_val,y_train,x_val_test,y_val_test\n",
        "\n",
        "  #Split the data into 2 sets:: Training and Validation(used to check against overfitting, you dont want training accuracy to be over validation) \n",
        "  val_ratio = 0.25    # Percentage of samples that should be held for validation set\n",
        "  length_data_processed = data_processed.shape[0]\n",
        "  val_split = int(val_ratio * length_data_processed)\n",
        "  x_val, x_train = np.split(data_processed, [val_split])\n",
        "  y_val, y_train = np.split(posture_processed, [val_split])\n",
        "  assert(x_train.size + x_val.size) == data_processed.size\n",
        "\n",
        "  if ALL_BOOL:\n",
        "    x_val_test = x_val\n",
        "    y_val_test = y_val\n",
        "  else:\n",
        "    #Process the data for the testing data (This will be data from a new user that has never had their data in the training set)\n",
        "    x_val_test = pd.read_csv(test_data+'.csv')\n",
        "    x_val_test = x_val_test[1::test_row_increments]\n",
        "    x_val_test = x_val_test.sample(frac=1).reset_index(drop=True)\n",
        "    y_val_test = x_val_test.pop('Class')\n",
        "    x_val_test = x_val_test/ 180\n",
        "\n",
        "  #Rearrange the data\n",
        "  if Relative_IMU:\n",
        "    temp = x_val_test['x1']\n",
        "    x_val_test['x1'] = x_val_test['y1']*-1\n",
        "    x_val_test['y1'] = temp\n",
        "    temp = x_val_test['x2']\n",
        "    x_val_test['x2']=x_val_test['y2']\n",
        "    x_val_test['y2']=temp\n",
        "    x_val_test['x1'] = x_val_test['x1']-x_val_test['x3']\n",
        "    x_val_test['y1'] = x_val_test['y1']-x_val_test['y3']\n",
        "    x_val_test['z1'] = x_val_test['z1']-x_val_test['z3']\n",
        "    x_val_test['x2'] = x_val_test['x2']-x_val_test['x3']\n",
        "    x_val_test['y2'] = x_val_test['y2']-x_val_test['y3']\n",
        "    x_val_test['z2'] = x_val_test['z2']-x_val_test['z3']\n",
        "    x_val_test['x3'] = x_val_test['x3']-x_val_test['x4']\n",
        "    x_val_test['y3'] = x_val_test['y3']-x_val_test['y4']\n",
        "    x_val_test['z3'] = x_val_test['z3']-x_val_test['z4']\n",
        "#########################################################################################################################################################################"
      ],
      "execution_count": 3,
      "outputs": []
    },
    {
      "cell_type": "markdown",
      "metadata": {
        "id": "pA5_-TdtoF_8"
      },
      "source": [
        "# **MODEL CREATION**"
      ]
    },
    {
      "cell_type": "code",
      "metadata": {
        "colab": {
          "base_uri": "https://localhost:8080/",
          "height": 1000
        },
        "id": "ctSnkzEK1nCv",
        "outputId": "506fda3b-656f-4dea-bb32-b2415ceca018"
      },
      "source": [
        "#########################################################################################################################################################################\n",
        "#   This block of code is for trying different model configurations and seeing what works best\n",
        "#########################################################################################################################################################################\n",
        "\n",
        "Save_Performance = False\n",
        "Custom_Learn_Rate = False\n",
        "Verbose = 2 \n",
        "Visualize = True\n",
        "Relative_IMU = False\n",
        "ALL_BOOL = True\n",
        "\n",
        "#Affects the range of layers that the models will have and how much times we want to test that setup\n",
        "layer_1_itr = 1       #how many different first layer sizes to try\n",
        "layer_2_itr = 1       #how many different second layer sizes to try\n",
        "test_per_config = 1   #how many times we want to test one model spec *(use multiple of total datasets)*\n",
        "\n",
        "hidden_layer_1 = 35\n",
        "hidden_layer_2 = 35\n",
        "hidden_layer_1_interval = 5\n",
        "hidden_layer_2_interval = 5\n",
        "\n",
        "starting_num_epochs = 40\n",
        "run_offset = 0\n",
        "\n",
        "dropout_percent = 0.2\n",
        "callback_patience = 4\n",
        "decay_rate = 0.90\n",
        "decay_steps = 200\n",
        "\n",
        "saved_metric_name = 'Single_Lower_IMU' #A file under this name will be saved containing the performance of different model configurations\n",
        "saved_acc_name = 'Acc_'+saved_metric_name\n",
        "# data_arr = ['data_G01','data_01','data_b01']\n",
        "# data_arr = ['data_01','data_b01','data_b02','data_b03','data_b05','data_G01','data_G02','data_02']\n",
        "data_arr = ['data_n01','data_n02','data_n03','data_n04','data_n05','data_n06','data_n07','data_n08','data_n09','data_n10']\n",
        "total_datasets = len(data_arr)\n",
        "\n",
        "#Change these\n",
        "train_row_increments = 5\n",
        "test_row_increments = 5\n",
        "#########################################################################################################################################################################\n",
        "\n",
        "#Only for telling us how much more models will be tested\n",
        "curr_run = 1\n",
        "total_run = layer_1_itr*layer_2_itr*test_per_config \n",
        "\n",
        "test_history = pd.DataFrame(columns=['Accuracy','Layer 1','Layer 2','Dropout %','Average of','Patience','IN Learning Rate','decay_rate','decay_steps','Relative_IMU'])#stores performance stats\n",
        "acc_history = pd.DataFrame(columns=['Run','Accuracy','Layer 1','Layer 2','Dropout %','Average of','Patience','IN Learning Rate','decay_rate','decay_steps','Relative_IMU'])\n",
        "for i in range(0,layer_1_itr):\n",
        "  for j in range(0,layer_2_itr):\n",
        "    average_accuracy = 0;\n",
        "    for k in range(0,test_per_config):\n",
        "\n",
        "      #Print out which loop we are undergoing\n",
        "      DATA_ARR = data_arr.copy()\n",
        "      print(str(curr_run)+\" out of \"+str(total_run) + \" runs\")\n",
        "      get_data((curr_run-1)%total_datasets+run_offset,Relative_IMU,DATA_ARR,ALL_BOOL,train_row_increments,test_row_increments)\n",
        "\n",
        "      if Visualize: #to verify data being passed through looks good\n",
        "        plt.subplot(1,3,1)\n",
        "        y_train.hist() #displays the histogram based on posture\n",
        "        plt.title(\"Training\")\n",
        "        plt.xlabel('postures')\n",
        "        plt.subplot(1,3,2)\n",
        "        y_val_test.hist()\n",
        "        plt.title(\"Test\")\n",
        "        plt.xlabel('postures')\n",
        "\n",
        "      initial_learning_rate = (hidden_layer_1+i*hidden_layer_1_interval)/10000\n",
        "\n",
        "      #Creates the model structure and chooses the activation function for each layer\n",
        "      model = tf.keras.Sequential([                      \n",
        "          tf.keras.layers.Flatten(input_shape=(12,1)),\n",
        "          tf.keras.layers.Dense(hidden_layer_1+i*hidden_layer_1_interval, activation='relu', name= \"Layer_1\",kernel_initializer='random_normal'),  #hidden layers are generally: relu, sigmoid, tanh (Usually constant for all hidden layers)\n",
        "          tf.keras.layers.Dropout(dropout_percent), #dropouts only occur during training\n",
        "          tf.keras.layers.Dense(hidden_layer_2+j*hidden_layer_2_interval, activation='relu', name= \"Layer_2\",kernel_initializer='random_normal'),  \n",
        "          tf.keras.layers.Dropout(dropout_percent),\n",
        "          tf.keras.layers.Dense(5, activation='linear', name= \"Predicted_Posture\"), #output layers are generally: linear, sigmoid, softmax\n",
        "      ])\n",
        "\n",
        "      if Visualize:\n",
        "        model.summary()\n",
        "\n",
        "      #Stops the model training early to prevent overfitting\n",
        "      callbacks = [\n",
        "      tf.keras.callbacks.EarlyStopping(# Stop training when `val_loss` is no longer improving\n",
        "          monitor=\"val_accuracy\",\n",
        "          # min_delta=callback_delta,\n",
        "          mode='auto',\n",
        "          patience=callback_patience,# \"no longer improving\" being further defined as \"for at least x epochs\"\n",
        "          verbose=1,\n",
        "        )\n",
        "      ] \n",
        "\n",
        "      #Adds the x_val dataset to be tested \n",
        "      val_test = AdditionalValidationSets([(x_val, y_val, 'val2')])\n",
        "\n",
        "      #Saves the models when the accuracy is pred_post based on the test values\n",
        "      temp_str = str(curr_run)\n",
        "      while len(temp_str) < len(str(total_run)):\n",
        "        temp_str = str(0)+temp_str \n",
        "      checkpoint_path = \"training_\"+temp_str+\"/cp.ckpt\"\n",
        "      checkpoint_dir = os.path.dirname(checkpoint_path)\n",
        "      cp_callback = tf.keras.callbacks.ModelCheckpoint(filepath=checkpoint_path, monitor=\"val_accuracy\",mode= \"auto\",save_best_only=True,save_weights_only=True,verbose=Verbose)\n",
        "\n",
        "      #Assign type of: optimizer, loss, and metric\n",
        "      lr_schedule = tf.keras.optimizers.schedules.ExponentialDecay(initial_learning_rate, decay_steps=decay_steps, decay_rate=decay_rate, staircase=True)\n",
        "      opt = tf.keras.optimizers.Adam(learning_rate=lr_schedule)\n",
        "      model.compile(optimizer='adam',loss=tf.keras.losses.SparseCategoricalCrossentropy(from_logits=True),metrics=['accuracy'])\n",
        "\n",
        "      #Train the model with the training data and save the stats in history\n",
        "      history = model.fit(x_train,y_train,epochs=starting_num_epochs,callbacks = [val_test,callbacks,cp_callback],validation_data=(x_val_test, y_val_test),shuffle = True, verbose= Verbose)\n",
        "\n",
        "      if Visualize:#Plots the training vs validation loss\n",
        "        loss = history.history['loss']\n",
        "        test_loss = history.history['val_loss']\n",
        "        val_loss = val_test.history['val2_loss']\n",
        "        epochs = history.epoch\n",
        "        plt.subplot(1,3,3)\n",
        "        plt.plot(epochs, loss, 'bo', label='Training loss')\n",
        "        plt.plot(epochs, val_loss, 'r', label='Validation loss')\n",
        "        plt.plot(epochs, test_loss, 'g', label='Test loss')\n",
        "        plt.title('Training and validation loss')\n",
        "        plt.legend()\n",
        "        plt.show()\n",
        "\n",
        "      \n",
        "      test_loss, test_acc = model.evaluate(x_val_test,  y_val_test, verbose=Verbose)\n",
        "      if Verbose!=0: #Test the model with unseen data and record the settings\n",
        "        print('\\nTest accuracy:', test_acc)\n",
        "\n",
        "      if Visualize:\n",
        "        #create a confusion matrix to see model performance\n",
        "        predictions = model.predict(x_val_test)\n",
        "        predictions = np.argmax(predictions,axis = 1)\n",
        "        confusion_mtx = tf.math.confusion_matrix(\n",
        "            y_val_test, predictions, 5, weights=None, dtype=tf.dtypes.int32,\n",
        "            name='PCD_Confusion_Matrix'\n",
        "        )\n",
        "        plt.figure(figsize=(10, 8))\n",
        "        sns.heatmap(confusion_mtx,annot=True, fmt='g')\n",
        "        plt.xlabel('Prediction')\n",
        "        plt.ylabel('Label')\n",
        "        plt.show()\n",
        "      average_accuracy = average_accuracy + test_acc\n",
        "      acc_row = {'Run':(curr_run-1)%total_datasets,'Accuracy':test_acc,'Layer 1':hidden_layer_1+i*hidden_layer_1_interval,'Layer 2':hidden_layer_2+j*hidden_layer_2_interval,'Dropout %':dropout_percent,\n",
        "               'Average of':test_per_config,'Patience':callback_patience,'IN Learning Rate':initial_learning_rate,'decay_rate':decay_rate,'decay_steps':decay_steps,'Relative_IMU':Relative_IMU}\n",
        "      acc_history = acc_history.append(acc_row, ignore_index=True)\n",
        "      curr_run += 1\n",
        "\n",
        "    #Records the test results for specific model configuration\n",
        "    average_accuracy = average_accuracy/test_per_config\n",
        "    new_row = {'Accuracy':average_accuracy,'Layer 1':hidden_layer_1+i*hidden_layer_1_interval,'Layer 2':hidden_layer_2+j*hidden_layer_2_interval,'Dropout %':dropout_percent,\n",
        "               'Average of':test_per_config,'Patience':callback_patience,'IN Learning Rate':initial_learning_rate,'decay_rate':decay_rate,'decay_steps':decay_steps,'Relative_IMU':Relative_IMU}\n",
        "    test_history = test_history.append(new_row, ignore_index=True)\n",
        "\n",
        "#Saves performance data\n",
        "if Save_Performance:\n",
        "  test_history.to_csv(saved_metric_name+\".csv\",index=False)\n",
        "  from google.colab import files\n",
        "  files.download(saved_metric_name+\".csv\")\n",
        "  acc_history.to_csv(saved_acc_name+\".csv\",index=False)\n",
        "  from google.colab import files\n",
        "  files.download(saved_acc_name+\".csv\")\n",
        "#########################################################################################################################################################################"
      ],
      "execution_count": 4,
      "outputs": [
        {
          "output_type": "stream",
          "text": [
            "1 out of 1 runs\n",
            "Testing Data: data_n01\n",
            "Model: \"sequential\"\n",
            "_________________________________________________________________\n",
            "Layer (type)                 Output Shape              Param #   \n",
            "=================================================================\n",
            "flatten (Flatten)            (None, 12)                0         \n",
            "_________________________________________________________________\n",
            "Layer_1 (Dense)              (None, 35)                455       \n",
            "_________________________________________________________________\n",
            "dropout (Dropout)            (None, 35)                0         \n",
            "_________________________________________________________________\n",
            "Layer_2 (Dense)              (None, 35)                1260      \n",
            "_________________________________________________________________\n",
            "dropout_1 (Dropout)          (None, 35)                0         \n",
            "_________________________________________________________________\n",
            "Predicted_Posture (Dense)    (None, 5)                 180       \n",
            "=================================================================\n",
            "Total params: 1,895\n",
            "Trainable params: 1,895\n",
            "Non-trainable params: 0\n",
            "_________________________________________________________________\n",
            "Epoch 1/40\n",
            "548/548 - 2s - loss: 1.4303 - accuracy: 0.3805 - val_loss: 1.1177 - val_accuracy: 0.5589\n",
            "\n",
            "Epoch 00001: val_accuracy improved from -inf to 0.55890, saving model to training_1/cp.ckpt\n",
            "Epoch 2/40\n",
            "548/548 - 1s - loss: 1.0619 - accuracy: 0.5553 - val_loss: 0.9117 - val_accuracy: 0.6425\n",
            "\n",
            "Epoch 00002: val_accuracy improved from 0.55890 to 0.64247, saving model to training_1/cp.ckpt\n",
            "Epoch 3/40\n",
            "548/548 - 1s - loss: 0.9458 - accuracy: 0.6003 - val_loss: 0.8062 - val_accuracy: 0.6825\n",
            "\n",
            "Epoch 00003: val_accuracy improved from 0.64247 to 0.68253, saving model to training_1/cp.ckpt\n",
            "Epoch 4/40\n",
            "548/548 - 1s - loss: 0.8729 - accuracy: 0.6399 - val_loss: 0.7417 - val_accuracy: 0.7221\n",
            "\n",
            "Epoch 00004: val_accuracy improved from 0.68253 to 0.72209, saving model to training_1/cp.ckpt\n",
            "Epoch 5/40\n",
            "548/548 - 1s - loss: 0.8320 - accuracy: 0.6601 - val_loss: 0.6981 - val_accuracy: 0.7497\n",
            "\n",
            "Epoch 00005: val_accuracy improved from 0.72209 to 0.74966, saving model to training_1/cp.ckpt\n",
            "Epoch 6/40\n",
            "548/548 - 1s - loss: 0.7906 - accuracy: 0.6808 - val_loss: 0.6581 - val_accuracy: 0.7622\n",
            "\n",
            "Epoch 00006: val_accuracy improved from 0.74966 to 0.76216, saving model to training_1/cp.ckpt\n",
            "Epoch 7/40\n",
            "548/548 - 1s - loss: 0.7602 - accuracy: 0.6989 - val_loss: 0.6244 - val_accuracy: 0.7750\n",
            "\n",
            "Epoch 00007: val_accuracy improved from 0.76216 to 0.77500, saving model to training_1/cp.ckpt\n",
            "Epoch 8/40\n",
            "548/548 - 1s - loss: 0.7322 - accuracy: 0.7113 - val_loss: 0.5985 - val_accuracy: 0.7930\n",
            "\n",
            "Epoch 00008: val_accuracy improved from 0.77500 to 0.79298, saving model to training_1/cp.ckpt\n",
            "Epoch 9/40\n",
            "548/548 - 1s - loss: 0.7116 - accuracy: 0.7251 - val_loss: 0.5745 - val_accuracy: 0.8053\n",
            "\n",
            "Epoch 00009: val_accuracy improved from 0.79298 to 0.80531, saving model to training_1/cp.ckpt\n",
            "Epoch 10/40\n",
            "548/548 - 1s - loss: 0.6799 - accuracy: 0.7389 - val_loss: 0.5404 - val_accuracy: 0.8180\n",
            "\n",
            "Epoch 00010: val_accuracy improved from 0.80531 to 0.81798, saving model to training_1/cp.ckpt\n",
            "Epoch 11/40\n",
            "548/548 - 1s - loss: 0.6656 - accuracy: 0.7458 - val_loss: 0.5185 - val_accuracy: 0.8358\n",
            "\n",
            "Epoch 00011: val_accuracy improved from 0.81798 to 0.83579, saving model to training_1/cp.ckpt\n",
            "Epoch 12/40\n",
            "548/548 - 1s - loss: 0.6424 - accuracy: 0.7547 - val_loss: 0.5012 - val_accuracy: 0.8334\n",
            "\n",
            "Epoch 00012: val_accuracy did not improve from 0.83579\n",
            "Epoch 13/40\n",
            "548/548 - 1s - loss: 0.6224 - accuracy: 0.7661 - val_loss: 0.4710 - val_accuracy: 0.8548\n",
            "\n",
            "Epoch 00013: val_accuracy improved from 0.83579 to 0.85479, saving model to training_1/cp.ckpt\n",
            "Epoch 14/40\n",
            "548/548 - 1s - loss: 0.6010 - accuracy: 0.7751 - val_loss: 0.4488 - val_accuracy: 0.8623\n",
            "\n",
            "Epoch 00014: val_accuracy improved from 0.85479 to 0.86233, saving model to training_1/cp.ckpt\n",
            "Epoch 15/40\n",
            "548/548 - 1s - loss: 0.5839 - accuracy: 0.7825 - val_loss: 0.4265 - val_accuracy: 0.8733\n",
            "\n",
            "Epoch 00015: val_accuracy improved from 0.86233 to 0.87329, saving model to training_1/cp.ckpt\n",
            "Epoch 16/40\n",
            "548/548 - 1s - loss: 0.5707 - accuracy: 0.7881 - val_loss: 0.4131 - val_accuracy: 0.8788\n",
            "\n",
            "Epoch 00016: val_accuracy improved from 0.87329 to 0.87877, saving model to training_1/cp.ckpt\n",
            "Epoch 17/40\n",
            "548/548 - 1s - loss: 0.5498 - accuracy: 0.7987 - val_loss: 0.3955 - val_accuracy: 0.8796\n",
            "\n",
            "Epoch 00017: val_accuracy improved from 0.87877 to 0.87962, saving model to training_1/cp.ckpt\n",
            "Epoch 18/40\n",
            "548/548 - 1s - loss: 0.5351 - accuracy: 0.8007 - val_loss: 0.3763 - val_accuracy: 0.8911\n",
            "\n",
            "Epoch 00018: val_accuracy improved from 0.87962 to 0.89110, saving model to training_1/cp.ckpt\n",
            "Epoch 19/40\n",
            "548/548 - 1s - loss: 0.5255 - accuracy: 0.8070 - val_loss: 0.3689 - val_accuracy: 0.8933\n",
            "\n",
            "Epoch 00019: val_accuracy improved from 0.89110 to 0.89332, saving model to training_1/cp.ckpt\n",
            "Epoch 20/40\n",
            "548/548 - 1s - loss: 0.5101 - accuracy: 0.8133 - val_loss: 0.3540 - val_accuracy: 0.8913\n",
            "\n",
            "Epoch 00020: val_accuracy did not improve from 0.89332\n",
            "Epoch 21/40\n",
            "548/548 - 1s - loss: 0.4980 - accuracy: 0.8150 - val_loss: 0.3414 - val_accuracy: 0.8974\n",
            "\n",
            "Epoch 00021: val_accuracy improved from 0.89332 to 0.89743, saving model to training_1/cp.ckpt\n",
            "Epoch 22/40\n",
            "548/548 - 1s - loss: 0.4940 - accuracy: 0.8197 - val_loss: 0.3258 - val_accuracy: 0.9077\n",
            "\n",
            "Epoch 00022: val_accuracy improved from 0.89743 to 0.90771, saving model to training_1/cp.ckpt\n",
            "Epoch 23/40\n",
            "548/548 - 1s - loss: 0.4817 - accuracy: 0.8235 - val_loss: 0.3200 - val_accuracy: 0.9075\n",
            "\n",
            "Epoch 00023: val_accuracy did not improve from 0.90771\n",
            "Epoch 24/40\n",
            "548/548 - 1s - loss: 0.4755 - accuracy: 0.8261 - val_loss: 0.3101 - val_accuracy: 0.9108\n",
            "\n",
            "Epoch 00024: val_accuracy improved from 0.90771 to 0.91079, saving model to training_1/cp.ckpt\n",
            "Epoch 25/40\n",
            "548/548 - 1s - loss: 0.4651 - accuracy: 0.8299 - val_loss: 0.3105 - val_accuracy: 0.9072\n",
            "\n",
            "Epoch 00025: val_accuracy did not improve from 0.91079\n",
            "Epoch 26/40\n",
            "548/548 - 1s - loss: 0.4557 - accuracy: 0.8300 - val_loss: 0.2941 - val_accuracy: 0.9110\n",
            "\n",
            "Epoch 00026: val_accuracy improved from 0.91079 to 0.91096, saving model to training_1/cp.ckpt\n",
            "Epoch 27/40\n",
            "548/548 - 1s - loss: 0.4506 - accuracy: 0.8368 - val_loss: 0.2837 - val_accuracy: 0.9134\n",
            "\n",
            "Epoch 00027: val_accuracy improved from 0.91096 to 0.91336, saving model to training_1/cp.ckpt\n",
            "Epoch 28/40\n",
            "548/548 - 1s - loss: 0.4419 - accuracy: 0.8393 - val_loss: 0.2743 - val_accuracy: 0.9193\n",
            "\n",
            "Epoch 00028: val_accuracy improved from 0.91336 to 0.91935, saving model to training_1/cp.ckpt\n",
            "Epoch 29/40\n",
            "548/548 - 1s - loss: 0.4363 - accuracy: 0.8404 - val_loss: 0.2713 - val_accuracy: 0.9190\n",
            "\n",
            "Epoch 00029: val_accuracy did not improve from 0.91935\n",
            "Epoch 30/40\n",
            "548/548 - 1s - loss: 0.4290 - accuracy: 0.8417 - val_loss: 0.2647 - val_accuracy: 0.9219\n",
            "\n",
            "Epoch 00030: val_accuracy improved from 0.91935 to 0.92192, saving model to training_1/cp.ckpt\n",
            "Epoch 31/40\n",
            "548/548 - 1s - loss: 0.4221 - accuracy: 0.8446 - val_loss: 0.2582 - val_accuracy: 0.9223\n",
            "\n",
            "Epoch 00031: val_accuracy improved from 0.92192 to 0.92226, saving model to training_1/cp.ckpt\n",
            "Epoch 32/40\n",
            "548/548 - 1s - loss: 0.4149 - accuracy: 0.8450 - val_loss: 0.2491 - val_accuracy: 0.9259\n",
            "\n",
            "Epoch 00032: val_accuracy improved from 0.92226 to 0.92586, saving model to training_1/cp.ckpt\n",
            "Epoch 33/40\n",
            "548/548 - 1s - loss: 0.4149 - accuracy: 0.8468 - val_loss: 0.2422 - val_accuracy: 0.9284\n",
            "\n",
            "Epoch 00033: val_accuracy improved from 0.92586 to 0.92842, saving model to training_1/cp.ckpt\n",
            "Epoch 34/40\n",
            "548/548 - 1s - loss: 0.4087 - accuracy: 0.8523 - val_loss: 0.2434 - val_accuracy: 0.9289\n",
            "\n",
            "Epoch 00034: val_accuracy improved from 0.92842 to 0.92894, saving model to training_1/cp.ckpt\n",
            "Epoch 35/40\n",
            "548/548 - 1s - loss: 0.3988 - accuracy: 0.8525 - val_loss: 0.2385 - val_accuracy: 0.9305\n",
            "\n",
            "Epoch 00035: val_accuracy improved from 0.92894 to 0.93048, saving model to training_1/cp.ckpt\n",
            "Epoch 36/40\n",
            "548/548 - 1s - loss: 0.4016 - accuracy: 0.8566 - val_loss: 0.2277 - val_accuracy: 0.9349\n",
            "\n",
            "Epoch 00036: val_accuracy improved from 0.93048 to 0.93493, saving model to training_1/cp.ckpt\n",
            "Epoch 37/40\n",
            "548/548 - 1s - loss: 0.3896 - accuracy: 0.8586 - val_loss: 0.2254 - val_accuracy: 0.9329\n",
            "\n",
            "Epoch 00037: val_accuracy did not improve from 0.93493\n",
            "Epoch 38/40\n",
            "548/548 - 1s - loss: 0.3855 - accuracy: 0.8610 - val_loss: 0.2212 - val_accuracy: 0.9408\n",
            "\n",
            "Epoch 00038: val_accuracy improved from 0.93493 to 0.94075, saving model to training_1/cp.ckpt\n",
            "Epoch 39/40\n",
            "548/548 - 1s - loss: 0.3834 - accuracy: 0.8625 - val_loss: 0.2128 - val_accuracy: 0.9457\n",
            "\n",
            "Epoch 00039: val_accuracy improved from 0.94075 to 0.94572, saving model to training_1/cp.ckpt\n",
            "Epoch 40/40\n",
            "548/548 - 1s - loss: 0.3771 - accuracy: 0.8644 - val_loss: 0.2174 - val_accuracy: 0.9409\n",
            "\n",
            "Epoch 00040: val_accuracy did not improve from 0.94572\n"
          ],
          "name": "stdout"
        },
        {
          "output_type": "display_data",
          "data": {
            "image/png": "[encoded data removed]",
            "text/plain": [
              "<Figure size 432x288 with 3 Axes>"
            ]
          },
          "metadata": {
            "tags": [],
            "needs_background": "light"
          }
        },
        {
          "output_type": "stream",
          "text": [
            "183/183 - 0s - loss: 0.2174 - accuracy: 0.9409\n",
            "\n",
            "Test accuracy: 0.9409246444702148\n"
          ],
          "name": "stdout"
        },
        {
          "output_type": "display_data",
          "data": {
            "image/png": "[encoded data removed]",
            "text/plain": [
              "<Figure size 720x576 with 2 Axes>"
            ]
          },
          "metadata": {
            "tags": [],
            "needs_background": "light"
          }
        }
      ]
    },
    {
      "cell_type": "code",
      "metadata": {
        "colab": {
          "base_uri": "https://localhost:8080/",
          "height": 17
        },
        "id": "8gPrKlU0FWzi",
        "outputId": "8488d609-253e-4687-d9e5-4663840ceb03"
      },
      "source": [
        "##downloads the file should we want it\n",
        "test_history.to_csv(saved_metric_name+\".csv\",index=False)\n",
        "from google.colab import files\n",
        "files.download(saved_metric_name+\".csv\")\n",
        "acc_history.to_csv(saved_acc_name+\".csv\",index=False)\n",
        "from google.colab import files\n",
        "files.download(saved_acc_name+\".csv\")"
      ],
      "execution_count": null,
      "outputs": [
        {
          "output_type": "display_data",
          "data": {
            "application/javascript": [
              "\n",
              "    async function download(id, filename, size) {\n",
              "      if (!google.colab.kernel.accessAllowed) {\n",
              "        return;\n",
              "      }\n",
              "      const div = document.createElement('div');\n",
              "      const label = document.createElement('label');\n",
              "      label.textContent = `Downloading \"${filename}\": `;\n",
              "      div.appendChild(label);\n",
              "      const progress = document.createElement('progress');\n",
              "      progress.max = size;\n",
              "      div.appendChild(progress);\n",
              "      document.body.appendChild(div);\n",
              "\n",
              "      const buffers = [];\n",
              "      let downloaded = 0;\n",
              "\n",
              "      const channel = await google.colab.kernel.comms.open(id);\n",
              "      // Send a message to notify the kernel that we're ready.\n",
              "      channel.send({})\n",
              "\n",
              "      for await (const message of channel.messages) {\n",
              "        // Send a message to notify the kernel that we're ready.\n",
              "        channel.send({})\n",
              "        if (message.buffers) {\n",
              "          for (const buffer of message.buffers) {\n",
              "            buffers.push(buffer);\n",
              "            downloaded += buffer.byteLength;\n",
              "            progress.value = downloaded;\n",
              "          }\n",
              "        }\n",
              "      }\n",
              "      const blob = new Blob(buffers, {type: 'application/binary'});\n",
              "      const a = document.createElement('a');\n",
              "      a.href = window.URL.createObjectURL(blob);\n",
              "      a.download = filename;\n",
              "      div.appendChild(a);\n",
              "      a.click();\n",
              "      div.remove();\n",
              "    }\n",
              "  "
            ],
            "text/plain": [
              "<IPython.core.display.Javascript object>"
            ]
          },
          "metadata": {
            "tags": []
          }
        },
        {
          "output_type": "display_data",
          "data": {
            "application/javascript": [
              "download(\"download_534011da-9dbd-41b2-9895-ef3f7b58f8c8\", \"H20_20_D_2_P_4.csv\", 108)"
            ],
            "text/plain": [
              "<IPython.core.display.Javascript object>"
            ]
          },
          "metadata": {
            "tags": []
          }
        },
        {
          "output_type": "display_data",
          "data": {
            "application/javascript": [
              "\n",
              "    async function download(id, filename, size) {\n",
              "      if (!google.colab.kernel.accessAllowed) {\n",
              "        return;\n",
              "      }\n",
              "      const div = document.createElement('div');\n",
              "      const label = document.createElement('label');\n",
              "      label.textContent = `Downloading \"${filename}\": `;\n",
              "      div.appendChild(label);\n",
              "      const progress = document.createElement('progress');\n",
              "      progress.max = size;\n",
              "      div.appendChild(progress);\n",
              "      document.body.appendChild(div);\n",
              "\n",
              "      const buffers = [];\n",
              "      let downloaded = 0;\n",
              "\n",
              "      const channel = await google.colab.kernel.comms.open(id);\n",
              "      // Send a message to notify the kernel that we're ready.\n",
              "      channel.send({})\n",
              "\n",
              "      for await (const message of channel.messages) {\n",
              "        // Send a message to notify the kernel that we're ready.\n",
              "        channel.send({})\n",
              "        if (message.buffers) {\n",
              "          for (const buffer of message.buffers) {\n",
              "            buffers.push(buffer);\n",
              "            downloaded += buffer.byteLength;\n",
              "            progress.value = downloaded;\n",
              "          }\n",
              "        }\n",
              "      }\n",
              "      const blob = new Blob(buffers, {type: 'application/binary'});\n",
              "      const a = document.createElement('a');\n",
              "      a.href = window.URL.createObjectURL(blob);\n",
              "      a.download = filename;\n",
              "      div.appendChild(a);\n",
              "      a.click();\n",
              "      div.remove();\n",
              "    }\n",
              "  "
            ],
            "text/plain": [
              "<IPython.core.display.Javascript object>"
            ]
          },
          "metadata": {
            "tags": []
          }
        },
        {
          "output_type": "display_data",
          "data": {
            "application/javascript": [
              "download(\"download_b5124717-d753-49b2-b6a0-4c71cc34e3d9\", \"Acc_H20_20_D_2_P_4.csv\", 168)"
            ],
            "text/plain": [
              "<IPython.core.display.Javascript object>"
            ]
          },
          "metadata": {
            "tags": []
          }
        }
      ]
    },
    {
      "cell_type": "markdown",
      "metadata": {
        "id": "YDTaCPOoY1eT"
      },
      "source": [
        "# **TESTING THRESHOLDS**"
      ]
    },
    {
      "cell_type": "code",
      "metadata": {
        "colab": {
          "base_uri": "https://localhost:8080/"
        },
        "id": "zL5ko0Z39oFA",
        "outputId": "5bb27481-b62b-41c6-bf80-6806a3e80c6f"
      },
      "source": [
        "#########################################################################################################################################################################\n",
        "#   Load specific model\n",
        "#########################################################################################################################################################################\n",
        "model_name = \"training_1\"\n",
        "model.load_weights(model_name + \"/cp.ckpt\")\n",
        "#########################################################################################################################################################################"
      ],
      "execution_count": 5,
      "outputs": [
        {
          "output_type": "execute_result",
          "data": {
            "text/plain": [
              "<tensorflow.python.training.tracking.util.CheckpointLoadStatus at 0x7f1bbf5bfdd0>"
            ]
          },
          "metadata": {
            "tags": []
          },
          "execution_count": 5
        }
      ]
    },
    {
      "cell_type": "code",
      "metadata": {
        "colab": {
          "base_uri": "https://localhost:8080/",
          "height": 265
        },
        "id": "bhaZARoSfhFo",
        "outputId": "92b51c2c-598f-4320-ab13-662e115d28fb"
      },
      "source": [
        "#########################################################################################################################################################################\n",
        "#   Combines all the datasets\n",
        "#########################################################################################################################################################################\n",
        "  \n",
        "data_arr = ['data_n01','data_n02','data_n03','data_n04','data_n05','data_n06','data_n07','data_n08','data_n09','data_n10']\n",
        "test_data_01 = data_arr[0]\n",
        "test_data_02 = data_arr[1]\n",
        "test_data_03 = data_arr[2]\n",
        "test_data_04 = data_arr[3]\n",
        "test_data_05 = data_arr[4]\n",
        "test_data_06 = data_arr[5]\n",
        "test_data_07 = data_arr[6]\n",
        "test_data_08 = data_arr[7]\n",
        "test_data_09 = data_arr[8]\n",
        "test_data_10 = data_arr[9]\n",
        "\n",
        "#Initialize dataframes for storing the data and combine them \n",
        "test_data1 = pd.read_csv(test_data_01+'.csv')\n",
        "test_data2 = pd.read_csv(test_data_02+'.csv')\n",
        "test_data3 = pd.read_csv(test_data_03+'.csv')\n",
        "test_data4 = pd.read_csv(test_data_04+'.csv')\n",
        "test_data5 = pd.read_csv(test_data_05+'.csv')\n",
        "test_data6 = pd.read_csv(test_data_06+'.csv')\n",
        "test_data7 = pd.read_csv(test_data_07+'.csv')\n",
        "test_data8 = pd.read_csv(test_data_08+'.csv')\n",
        "test_data9 = pd.read_csv(test_data_09+'.csv')\n",
        "test_data10 = pd.read_csv(test_data_10+'.csv')\n",
        "\n",
        "test_data_combined = pd.concat([test_data1,test_data2,test_data3,test_data4,test_data5,test_data6,test_data7,test_data8,test_data9,test_data10],ignore_index=True)\n",
        "test_data_combined = test_data_combined[1::1]\n",
        "test_data_combined = pd.concat([test_data_combined],ignore_index=True)\n",
        "test_data_combined.Class.hist()\n",
        "\n",
        "test_label = test_data_combined.pop(\"Class\")\n",
        "\n",
        "inc = -40\n",
        "test_data_combined['x1'] -= inc\n",
        "test_data_combined['x2'] -= inc\n",
        "test_data_combined['x3'] -= inc\n",
        "test_data_combined['x4'] -= inc\n",
        "\n",
        "\n",
        "\n",
        "test_data_combined = test_data_combined/180\n",
        "\n",
        "\n",
        "if Relative_IMU:\n",
        "  temp = test_data_combined['x1']\n",
        "  test_data_combined['x1'] = test_data_combined['y1']*-1\n",
        "  test_data_combined['y1'] = temp\n",
        "  temp = test_data_combined['x2']\n",
        "  test_data_combined['x2']=test_data_combined['y2']\n",
        "  test_data_combined['y2']=temp\n",
        "  test_data_combined['x1'] = test_data_combined['x1']-test_data_combined['x3']\n",
        "  test_data_combined['y1'] = test_data_combined['y1']-test_data_combined['y3']\n",
        "  test_data_combined['z1'] = test_data_combined['z1']-test_data_combined['z3']\n",
        "  test_data_combined['x2'] = test_data_combined['x2']-test_data_combined['x3']\n",
        "  test_data_combined['y2'] = test_data_combined['y2']-test_data_combined['y3']\n",
        "  test_data_combined['z2'] = test_data_combined['z2']-test_data_combined['z3']\n",
        "  test_data_combined['x3'] = test_data_combined['x3']-test_data_combined['x4']\n",
        "  test_data_combined['y3'] = test_data_combined['y3']-test_data_combined['y4']\n",
        "  test_data_combined['z3'] = test_data_combined['z3']-test_data_combined['z4']\n",
        "#########################################################################################################################################################################"
      ],
      "execution_count": 6,
      "outputs": [
        {
          "output_type": "display_data",
          "data": {
            "image/png": "[encoded data removed]",
            "text/plain": [
              "<Figure size 432x288 with 1 Axes>"
            ]
          },
          "metadata": {
            "tags": [],
            "needs_background": "light"
          }
        }
      ]
    },
    {
      "cell_type": "code",
      "metadata": {
        "id": "jq9GIepY7Rx7"
      },
      "source": [
        "#########################################################################################################################################################################\n",
        "#   Softmax Function Definition\n",
        "#########################################################################################################################################################################\n",
        "\n",
        "def softmax(x):\n",
        "    pred = np.empty((len(x),5),float)\n",
        "    for i in range(0,len(x)):\n",
        "      row = x[i:i+1];\n",
        "      ex = np.exp(row)\n",
        "      sum_ex = np.sum(np.exp(row))\n",
        "      pred[i:i+1]=ex/sum_ex\n",
        "    return pred\n",
        "\n",
        "#########################################################################################################################################################################"
      ],
      "execution_count": 7,
      "outputs": []
    },
    {
      "cell_type": "code",
      "metadata": {
        "colab": {
          "base_uri": "https://localhost:8080/",
          "height": 513
        },
        "id": "FM5rMiMdIfDH",
        "outputId": "1cc6eb25-0207-4b81-c6e7-623bd3ce3ff0"
      },
      "source": [
        "#########################################################################################################################################################################\n",
        "#   Testing One Configuration of thresholds & priority sequence\n",
        "#########################################################################################################################################################################\n",
        "\n",
        "Verification_File_Name = \"Model_Verification_Final_50\"\n",
        "save_threshold_data = False\n",
        "\n",
        "PRINT_CON = True\n",
        "predictions = model.predict(test_data_combined)\n",
        "predictions = softmax(predictions)\n",
        "# predictions = predictions[0:5]\n",
        "permu_len = 1\n",
        "only_perm = [1,5,4,2,3]\n",
        "\n",
        "log_loss_history = pd.DataFrame(columns=['Log Loss','Priority','Threshold','Accuracy','No Posture Rate','Active Accuracy','Confusion Mat'])#stores performance stats\n",
        "\n",
        "#Cycle between different threshold values\n",
        "min_thres = 0.50\n",
        "max_thres = 0.50\n",
        "inc_thres = 0.05\n",
        "\n",
        "curr_thres = np.array([0.55,0.55,0.55,0.55,0.55])\n",
        "\n",
        "pred_len = len(predictions)\n",
        "# test_label = test_label[0:5]\n",
        "total_true = test_label\n",
        "\n",
        "#Loop through all thresholding values\n",
        "\n",
        "print(curr_thres)\n",
        "#Loop through all permutations of [1,2,3,4,5] priority\n",
        "con_mat = np.zeros((6,6))\n",
        "curr_perm = only_perm\n",
        "# curr_perm = all_permu[perm_itr]\n",
        "curr_log_loss = 0\n",
        "\n",
        "#Loop through all prediction values\n",
        "for pred_itr in range(0,pred_len):\n",
        "  curr_pred = np.array(predictions[pred_itr:pred_itr+1])\n",
        "  passed_thres = np.array([0,0,0,0,0])\n",
        "  passed_thres = np.greater_equal(curr_pred,curr_thres)\n",
        "  passed_thres = passed_thres *curr_perm\n",
        "  pred_post = np.amax(passed_thres)\n",
        "  true_post = total_true[pred_itr]\n",
        "  estimated_post = 10\n",
        "  if pred_post: #if the pred_post exist then update the con_mat\n",
        "    estimated_post = curr_perm.index(pred_post)\n",
        "    con_mat[true_post][estimated_post] +=1 \n",
        "    probability_estimate = curr_pred[0][estimated_post]\n",
        "  else: #no posture is detected, increment accordingly\n",
        "    con_mat[true_post][5] +=1 \n",
        "  probability_true = curr_pred[0][true_post]\n",
        "  if estimated_post == true_post:#if the model was correct\n",
        "    add_log = math.log10(probability_estimate)*-1\n",
        "    curr_log_loss += (add_log)\n",
        "  else:\n",
        "    add_log = math.log10(1-probability_true)*-1\n",
        "    curr_log_loss += (add_log)\n",
        "if PRINT_CON:\n",
        "  plt.figure(figsize=(10, 8))\n",
        "  sns.heatmap(con_mat,annot=True, fmt='g')\n",
        "  plt.xlabel('Prediction')\n",
        "  plt.ylabel('Label')\n",
        "  plt.show()\n",
        "  acc = sum(np.diagonal(con_mat))/pred_len\n",
        "  no_post_rate = sum(con_mat[:,5])/pred_len\n",
        "  act_acc = sum(np.diagonal(con_mat))/(pred_len-sum(con_mat[:,5]))\n",
        "  # print(\"Log Loss: \"+str(curr_log_loss)+\"  Threshold: \"+str(curr_thres)+\"   Active Accuracy: \"+str(act_acc)+\"   no post rate: \"+str(no_post_rate)+\" Confusion Matrix: \"+str(con_mat))\n",
        "  new_row = ({'Log Loss':curr_log_loss,'Priority':curr_perm,'Threshold':curr_thres+0,'Accuracy':acc,'No Posture Rate':no_post_rate,'Active Accuracy':act_acc,'Confusion Mat':con_mat})\n",
        "\n",
        "\n",
        "  log_loss_history = log_loss_history.append(new_row, ignore_index=True)    \n",
        "\n",
        "#save the file\n",
        "if save_threshold_data:\n",
        "  log_loss_history.to_csv(Verification_File_Name+\".csv\",index=False)\n",
        "  from google.colab import files\n",
        "  files.download(Verification_File_Name+\".csv\")\n",
        "\n",
        "#########################################################################################################################################################################"
      ],
      "execution_count": 34,
      "outputs": [
        {
          "output_type": "stream",
          "text": [
            "[0.55 0.55 0.55 0.55 0.55]\n"
          ],
          "name": "stdout"
        },
        {
          "output_type": "display_data",
          "data": {
            "image/png": "[encoded data removed]",
            "text/plain": [
              "<Figure size 720x576 with 2 Axes>"
            ]
          },
          "metadata": {
            "tags": [],
            "needs_background": "light"
          }
        }
      ]
    },
    {
      "cell_type": "code",
      "metadata": {
        "colab": {
          "base_uri": "https://localhost:8080/",
          "height": 1000
        },
        "id": "MurZVmt_-TcZ",
        "outputId": "cc835a7b-4bf6-463b-eae6-9ff497c8a124"
      },
      "source": [
        "#########################################################################################################################################################################\n",
        "#   Displays performance of latest priority-threshold filter vs that of having no filter\n",
        "#########################################################################################################################################################################\n",
        "\n",
        "#with final filter\n",
        "plt.figure(figsize=(10, 8))\n",
        "sns.heatmap(con_mat,annot=True, fmt='g')\n",
        "plt.xlabel('Prediction')\n",
        "plt.ylabel('Label')\n",
        "plt.show()\n",
        "\n",
        "#without\n",
        "test_loss, test_acc = model.evaluate(test_data_combined,  test_label, verbose=Verbose)\n",
        "print('\\nTest accuracy:', test_acc)\n",
        "plt.figure(figsize=(10, 8))\n",
        "sns.heatmap(confusion_mtx,annot=True, fmt='g')\n",
        "\n",
        "#########################################################################################################################################################################"
      ],
      "execution_count": 35,
      "outputs": [
        {
          "output_type": "display_data",
          "data": {
            "image/png": "[encoded data removed]",
            "text/plain": [
              "<Figure size 720x576 with 2 Axes>"
            ]
          },
          "metadata": {
            "tags": [],
            "needs_background": "light"
          }
        },
        {
          "output_type": "stream",
          "text": [
            "4081/4081 - 4s - loss: 0.3376 - accuracy: 0.8841\n",
            "\n",
            "Test accuracy: 0.8840664029121399\n"
          ],
          "name": "stdout"
        },
        {
          "output_type": "execute_result",
          "data": {
            "text/plain": [
              "{'Accuracy': 0.8339025361431022,\n",
              " 'Active Accuracy': 0.9212503172320446,\n",
              " 'Confusion Mat': array([[1.6878e+04, 7.4300e+02, 2.5720e+03, 1.9000e+02, 4.1100e+02,\n",
              "         5.5710e+03],\n",
              "        [1.3800e+02, 2.0627e+04, 2.3790e+03, 4.3000e+01, 6.6800e+02,\n",
              "         2.0760e+03],\n",
              "        [8.0000e+02, 4.4100e+02, 2.0899e+04, 1.0800e+02, 2.4300e+02,\n",
              "         3.4620e+03],\n",
              "        [9.3000e+01, 0.0000e+00, 1.6000e+01, 2.6114e+04, 0.0000e+00,\n",
              "         1.4500e+02],\n",
              "        [4.3000e+01, 1.4800e+02, 2.7300e+02, 0.0000e+00, 2.4383e+04,\n",
              "         1.1280e+03],\n",
              "        [0.0000e+00, 0.0000e+00, 0.0000e+00, 0.0000e+00, 0.0000e+00,\n",
              "         0.0000e+00]]),\n",
              " 'Log Loss': 9486.732115310078,\n",
              " 'No Posture Rate': 0.09481438372947806,\n",
              " 'Priority': [1, 5, 4, 2, 3],\n",
              " 'Threshold': array([0.55, 0.55, 0.55, 0.55, 0.55])}"
            ]
          },
          "metadata": {
            "tags": []
          },
          "execution_count": 35
        },
        {
          "output_type": "display_data",
          "data": {
            "image/png": "[encoded data removed]",
            "text/plain": [
              "<Figure size 720x576 with 2 Axes>"
            ]
          },
          "metadata": {
            "tags": [],
            "needs_background": "light"
          }
        }
      ]
    },
    {
      "cell_type": "code",
      "metadata": {
        "id": "PsnJvPqeZISf",
        "colab": {
          "base_uri": "https://localhost:8080/",
          "height": 238
        },
        "outputId": "dcc97998-778d-4f93-e58c-f745c6e60438"
      },
      "source": [
        "#########################################################################################################################################################################\n",
        "#   Testing Multiple Configuration of thresholds & priority sequence\n",
        "#########################################################################################################################################################################\n",
        "\n",
        "Verification_File_Name = \"Model_Verification_Final_50\"\n",
        "save_threshold_data = True\n",
        "\n",
        "PRINT_CON = False\n",
        "predictions = model.predict(test_data_combined)\n",
        "predictions = softmax(predictions)\n",
        "# predictions = predictions[0:5]\n",
        "import itertools  #Creates permutations of priority\n",
        "all_permu = list(itertools.permutations([1,2,3,4,5]))\n",
        "permu_len = len(all_permu)\n",
        "\n",
        "log_loss_history = pd.DataFrame(columns=['Log Loss','Priority','Threshold','Accuracy','No Posture Rate','Active Accuracy','Confusion Mat'])#stores performance stats\n",
        "\n",
        "#Cycle between different threshold values\n",
        "min_thres = 0.40\n",
        "max_thres = 0.70\n",
        "inc_thres = 0.15\n",
        "\n",
        "curr_thres = np.array([min_thres,min_thres,min_thres,min_thres,min_thres])\n",
        "\n",
        "pred_len = len(predictions)\n",
        "# test_label = test_label[0:5]\n",
        "total_true = test_label\n",
        "\n",
        "#Loop through all thresholding values\n",
        "while curr_thres[0]<=max_thres:\n",
        "  curr_thres[1] = min_thres\n",
        "  while curr_thres[1]<=max_thres:\n",
        "    curr_thres[2] = min_thres\n",
        "    while curr_thres[2]<=max_thres:\n",
        "      curr_thres[3] = min_thres\n",
        "      while curr_thres[3]<=max_thres:\n",
        "        curr_thres[4] = min_thres\n",
        "        while curr_thres[4]<=max_thres:\n",
        "          print(curr_thres)\n",
        "          #Loop through all permutations of [1,2,3,4,5] priority\n",
        "          for perm_itr in range (0,permu_len):\n",
        "            con_mat = np.zeros((6,6))\n",
        "            curr_perm = only_perm\n",
        "            # curr_perm = all_permu[perm_itr]\n",
        "            print(\"Curr perm:\" +str(perm_itr+1))\n",
        "            curr_log_loss = 0\n",
        "\n",
        "            #Loop through all prediction values\n",
        "            for pred_itr in range(0,pred_len):\n",
        "              curr_pred = np.array(predictions[pred_itr:pred_itr+1])\n",
        "              passed_thres = np.array([0,0,0,0,0])\n",
        "              passed_thres = np.greater_equal(curr_pred,curr_thres)\n",
        "              passed_thres = passed_thres *curr_perm\n",
        "              pred_post = np.amax(passed_thres)\n",
        "              true_post = total_true[pred_itr]\n",
        "              estimated_post = 10\n",
        "              if pred_post: #if the pred_post exist then update the con_mat\n",
        "                estimated_post = curr_perm.index(pred_post)\n",
        "                con_mat[true_post][estimated_post] +=1 \n",
        "                probability_estimate = curr_pred[0][estimated_post]\n",
        "              else: #no posture is detected, increment accordingly\n",
        "                con_mat[true_post][5] +=1 \n",
        "              probability_true = curr_pred[0][true_post]\n",
        "              if estimated_post == true_post:#if the model was correct\n",
        "                add_log = math.log10(probability_estimate)*-1\n",
        "                curr_log_loss += (add_log)\n",
        "              else:\n",
        "                add_log = math.log10(1-probability_true)*-1\n",
        "                curr_log_loss += (add_log)\n",
        "            if PRINT_CON:\n",
        "              plt.figure(figsize=(10, 8))\n",
        "              sns.heatmap(con_mat,annot=True, fmt='g')\n",
        "              plt.xlabel('Prediction')\n",
        "              plt.ylabel('Label')\n",
        "              plt.show()\n",
        "            acc = sum(np.diagonal(con_mat))/pred_len\n",
        "            no_post_rate = sum(con_mat[5])/pred_len\n",
        "            act_acc = sum(np.diagonal(con_mat))/(pred_len-sum(con_mat[5]))\n",
        "            # print(\"Log Loss: \"+str(curr_log_loss)+\"  Threshold: \"+str(curr_thres)+\"   Active Accuracy: \"+str(act_acc)+\"   no post rate: \"+str(no_post_rate)+\" Confusion Matrix: \"+str(con_mat))\n",
        "            new_row = ({'Log Loss':curr_log_loss,'Priority':curr_perm,'Threshold':curr_thres+0,'Accuracy':acc,'No Posture Rate':no_post_rate,'Active Accuracy':act_acc,'Confusion Mat':con_mat})\n",
        "\n",
        "\n",
        "            log_loss_history = log_loss_history.append(new_row, ignore_index=True)    \n",
        "          curr_thres[4] += inc_thres\n",
        "        curr_thres[3] += inc_thres\n",
        "      curr_thres[2] += inc_thres\n",
        "    curr_thres[1] += inc_thres\n",
        "  curr_thres[0] += inc_thres\n",
        "#save the file\n",
        "if save_threshold_data:\n",
        "  log_loss_history.to_csv(Verification_File_Name+\".csv\",index=False)\n",
        "  from google.colab import files\n",
        "  files.download(Verification_File_Name+\".csv\")\n",
        "#########################################################################################################################################################################"
      ],
      "execution_count": null,
      "outputs": [
        {
          "output_type": "error",
          "ename": "NameError",
          "evalue": "ignored",
          "traceback": [
            "\u001b[0;31m---------------------------------------------------------------------------\u001b[0m",
            "\u001b[0;31mNameError\u001b[0m                                 Traceback (most recent call last)",
            "\u001b[0;32m<ipython-input-1-b7dfbf0c0edd>\u001b[0m in \u001b[0;36m<module>\u001b[0;34m()\u001b[0m\n\u001b[1;32m      7\u001b[0m \u001b[0;34m\u001b[0m\u001b[0m\n\u001b[1;32m      8\u001b[0m \u001b[0mPRINT_CON\u001b[0m \u001b[0;34m=\u001b[0m \u001b[0;32mFalse\u001b[0m\u001b[0;34m\u001b[0m\u001b[0;34m\u001b[0m\u001b[0m\n\u001b[0;32m----> 9\u001b[0;31m \u001b[0mpredictions\u001b[0m \u001b[0;34m=\u001b[0m \u001b[0mmodel\u001b[0m\u001b[0;34m.\u001b[0m\u001b[0mpredict\u001b[0m\u001b[0;34m(\u001b[0m\u001b[0mtest_data_combined\u001b[0m\u001b[0;34m)\u001b[0m\u001b[0;34m\u001b[0m\u001b[0;34m\u001b[0m\u001b[0m\n\u001b[0m\u001b[1;32m     10\u001b[0m \u001b[0mpredictions\u001b[0m \u001b[0;34m=\u001b[0m \u001b[0msoftmax\u001b[0m\u001b[0;34m(\u001b[0m\u001b[0mpredictions\u001b[0m\u001b[0;34m)\u001b[0m\u001b[0;34m\u001b[0m\u001b[0;34m\u001b[0m\u001b[0m\n\u001b[1;32m     11\u001b[0m \u001b[0;31m# predictions = predictions[0:5]\u001b[0m\u001b[0;34m\u001b[0m\u001b[0;34m\u001b[0m\u001b[0;34m\u001b[0m\u001b[0m\n",
            "\u001b[0;31mNameError\u001b[0m: name 'model' is not defined"
          ]
        }
      ]
    },
    {
      "cell_type": "markdown",
      "metadata": {
        "id": "4oOkPNo14dA0"
      },
      "source": [
        "# **TESTING MODELS**\n"
      ]
    },
    {
      "cell_type": "code",
      "metadata": {
        "colab": {
          "base_uri": "https://localhost:8080/",
          "height": 496
        },
        "id": "9BhVgNQQgoI0",
        "outputId": "157a8a6f-6a7e-4e53-8dfd-5f20a5f64a88"
      },
      "source": [
        "predictions = model.predict(test_data_combined)\n",
        "predictions = np.argmax(predictions,axis = 1)\n",
        "confusion_mtx = tf.math.confusion_matrix(\n",
        "    test_label, predictions, 5, weights=None, dtype=tf.dtypes.int32,\n",
        "    name='PCD_Confusion_Matrix'\n",
        ")\n",
        "plt.figure(figsize=(10, 8))\n",
        "sns.heatmap(confusion_mtx,annot=True, fmt='g')\n",
        "plt.xlabel('Prediction')\n",
        "plt.ylabel('Label')\n",
        "plt.show()"
      ],
      "execution_count": null,
      "outputs": [
        {
          "output_type": "display_data",
          "data": {
            "image/png": "[encoded data removed]",
            "text/plain": [
              "<Figure size 720x576 with 2 Axes>"
            ]
          },
          "metadata": {
            "tags": [],
            "needs_background": "light"
          }
        }
      ]
    },
    {
      "cell_type": "markdown",
      "metadata": {
        "id": "H6FJjm5jhfAs"
      },
      "source": [
        "*Select the specific traing_x model that you want to reload*\n"
      ]
    },
    {
      "cell_type": "markdown",
      "metadata": {
        "id": "SE1bOWLenGDz"
      },
      "source": [
        "# **CONVERTING THE MODEL**"
      ]
    },
    {
      "cell_type": "code",
      "metadata": {
        "id": "fUP0qeH6IAGZ"
      },
      "source": [
        "#########################################################################################################################################################################\n",
        "#   Function to convert tflite file to C header file\n",
        "#########################################################################################################################################################################\n",
        "\n",
        "# Function: Convert some hex value into an array for C programming\n",
        "def hex_to_c_array(hex_data, var_name):\n",
        "\n",
        "  c_str = ''\n",
        "\n",
        "  # Create header guard\n",
        "  c_str += '#ifndef ' + var_name.upper() + '_H\\n'\n",
        "  c_str += '#define ' + var_name.upper() + '_H\\n\\n'\n",
        "\n",
        "  # Add array length at top of file\n",
        "  c_str += '\\nunsigned int ' + var_name + '_len = ' + str(len(hex_data)) + ';\\n'\n",
        "\n",
        "  # Declare C variable\n",
        "  c_str += 'unsigned char ' + var_name + '[] = {'\n",
        "  hex_array = []\n",
        "  for i, val in enumerate(hex_data) :\n",
        "\n",
        "    # Construct string from hex\n",
        "    hex_str = format(val, '#04x')\n",
        "\n",
        "    # Add formatting so each line stays within 80 characters\n",
        "    if (i + 1) < len(hex_data):\n",
        "      hex_str += ','\n",
        "    if (i + 1) % 12 == 0:\n",
        "      hex_str += '\\n '\n",
        "    hex_array.append(hex_str)\n",
        "\n",
        "  # Add closing brace\n",
        "  c_str += '\\n ' + format(' '.join(hex_array)) + '\\n};\\n\\n'\n",
        "\n",
        "  # Close out header guard\n",
        "  c_str += '#endif //' + var_name.upper() + '_H'\n",
        "\n",
        "  return c_str\n",
        "\n",
        "#########################################################################################################################################################################"
      ],
      "execution_count": null,
      "outputs": []
    },
    {
      "cell_type": "code",
      "metadata": {
        "colab": {
          "base_uri": "https://localhost:8080/"
        },
        "id": "qXxSAzAWQkql",
        "outputId": "d600e17d-1c3f-4c67-d8c0-cb2638a00dfc"
      },
      "source": [
        "#########################################################################################################################################################################\n",
        "#   Load specific model\n",
        "#########################################################################################################################################################################\n",
        "\n",
        "model_name = \"training_1\"\n",
        "model.load_weights(model_name + \"/cp.ckpt\")\n",
        "#########################################################################################################################################################################"
      ],
      "execution_count": null,
      "outputs": [
        {
          "output_type": "execute_result",
          "data": {
            "text/plain": [
              "<tensorflow.python.training.tracking.util.CheckpointLoadStatus at 0x7f2b70105490>"
            ]
          },
          "metadata": {
            "tags": []
          },
          "execution_count": 7
        }
      ]
    },
    {
      "cell_type": "code",
      "metadata": {
        "colab": {
          "base_uri": "https://localhost:8080/"
        },
        "id": "iT4YypbHIMur",
        "outputId": "26fc39f9-7571-41a9-c971-1195a226b3da"
      },
      "source": [
        "#########################################################################################################################################################################\n",
        "#   Optimize the model for size and convert to tflite model\n",
        "#########################################################################################################################################################################\n",
        "\n",
        "#Covert the model to a tflite model & optimize to reduce the size\n",
        "converter = tf.lite.TFLiteConverter.from_keras_model(model)\n",
        "converter.optimizations = [tf.lite.Optimize.OPTIMIZE_FOR_SIZE]\n",
        "tflite_model = converter.convert()\n",
        "open(tflite_model_name + '.tflite', 'wb').write(tflite_model)\n",
        "\n",
        "#########################################################################################################################################################################"
      ],
      "execution_count": null,
      "outputs": [
        {
          "output_type": "stream",
          "text": [
            "INFO:tensorflow:Assets written to: /tmp/tmp98ilygof/assets\n"
          ],
          "name": "stdout"
        },
        {
          "output_type": "execute_result",
          "data": {
            "text/plain": [
              "7808"
            ]
          },
          "metadata": {
            "tags": []
          },
          "execution_count": 8
        }
      ]
    },
    {
      "cell_type": "code",
      "metadata": {
        "id": "gch2Y9f9IB1E"
      },
      "source": [
        "#########################################################################################################################################################################\n",
        "#   Convert to c-header file via function\n",
        "#########################################################################################################################################################################\n",
        "\n",
        "# Write TFLite model to a C source (or header) file\n",
        "with open(c_model_name + '.h', 'w') as file:\n",
        "  file.write(hex_to_c_array(tflite_model, c_model_name))\n",
        "\n",
        "#########################################################################################################################################################################"
      ],
      "execution_count": null,
      "outputs": []
    }
  ]
}