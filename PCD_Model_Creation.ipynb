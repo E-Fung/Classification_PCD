{
  "nbformat": 4,
  "nbformat_minor": 0,
  "metadata": {
    "colab": {
      "name": "PCD_Model_Creation.ipynb",
      "provenance": [],
      "collapsed_sections": [],
      "toc_visible": true,
      "authorship_tag": "ABX9TyMX1Wzl/rPwZHs5xdL+t4MA",
      "include_colab_link": true
    },
    "kernelspec": {
      "name": "python3",
      "display_name": "Python 3"
    },
    "accelerator": "GPU"
  },
  "cells": [
    {
      "cell_type": "markdown",
      "metadata": {
        "id": "view-in-github",
        "colab_type": "text"
      },
      "source": [
        "<a href=\"https://colab.research.google.com/github/E-Fung/Classification_PCD/blob/main/PCD_Model_Creation.ipynb\" target=\"_parent\"><img src=\"https://colab.research.google.com/assets/colab-badge.svg\" alt=\"Open In Colab\"/></a>"
      ]
    },
    {
      "cell_type": "markdown",
      "metadata": {
        "id": "Qykfyy_vnxwK"
      },
      "source": [
        "# **INITIALIZE LIBRARIES AND MODEL NAMES**"
      ]
    },
    {
      "cell_type": "code",
      "metadata": {
        "colab": {
          "base_uri": "https://localhost:8080/"
        },
        "id": "j4etodJE15Ry",
        "outputId": "c212eb33-5679-40e5-8fe7-4ed62a2e5785"
      },
      "source": [
        "pip install -U scikit-learn"
      ],
      "execution_count": null,
      "outputs": [
        {
          "output_type": "stream",
          "text": [
            "Requirement already up-to-date: scikit-learn in /usr/local/lib/python3.7/dist-packages (0.24.1)\n",
            "Requirement already satisfied, skipping upgrade: scipy>=0.19.1 in /usr/local/lib/python3.7/dist-packages (from scikit-learn) (1.4.1)\n",
            "Requirement already satisfied, skipping upgrade: numpy>=1.13.3 in /usr/local/lib/python3.7/dist-packages (from scikit-learn) (1.19.5)\n",
            "Requirement already satisfied, skipping upgrade: joblib>=0.11 in /usr/local/lib/python3.7/dist-packages (from scikit-learn) (1.0.1)\n",
            "Requirement already satisfied, skipping upgrade: threadpoolctl>=2.0.0 in /usr/local/lib/python3.7/dist-packages (from scikit-learn) (2.1.0)\n"
          ],
          "name": "stdout"
        }
      ]
    },
    {
      "cell_type": "code",
      "metadata": {
        "colab": {
          "base_uri": "https://localhost:8080/",
          "height": 35
        },
        "id": "5rOfjJdK2Nb9",
        "outputId": "078e53ef-7ae3-493d-cad9-bc88671467a5"
      },
      "source": [
        "import sklearn\n",
        "sklearn.__version__"
      ],
      "execution_count": null,
      "outputs": [
        {
          "output_type": "execute_result",
          "data": {
            "application/vnd.google.colaboratory.intrinsic+json": {
              "type": "string"
            },
            "text/plain": [
              "'0.24.1'"
            ]
          },
          "metadata": {
            "tags": []
          },
          "execution_count": 35
        }
      ]
    },
    {
      "cell_type": "code",
      "metadata": {
        "id": "CwX7Wo5C23-n",
        "colab": {
          "base_uri": "https://localhost:8080/"
        },
        "outputId": "d7d3a99c-80c9-4dc0-84ef-b2b184437304"
      },
      "source": [
        "#########################################################################################################################################################################\n",
        "#   Initialize libraries and such\n",
        "#########################################################################################################################################################################\n",
        "\n",
        "%tensorflow_version 2.x  # this line is not required unless you are in a notebook\n",
        "from __future__ import absolute_import, division, print_function, unicode_literals\n",
        "from mpl_toolkits.mplot3d import Axes3D\n",
        "from google.colab import files\n",
        "import seaborn as sns\n",
        "import tensorflow as tf\n",
        "import tensorflow_datasets as tfds\n",
        "import matplotlib.pyplot as plt\n",
        "import numpy as np\n",
        "import pandas as pd\n",
        "import math\n",
        "import io\n",
        "import os\n",
        "\n",
        "# Print versions\n",
        "!python --versions\n",
        "print('Numpy ' + np.__version__)\n",
        "print('TensorFlow ' + tf.__version__)\n",
        "print('Keras ' + tf.keras.__version__)\n",
        "\n",
        "tflite_model_name = 'PCD_Model'\n",
        "c_model_name = 'PCD_Model'\n",
        "\n",
        "#This is for gathering the metrics (accuracy % loss) for another set of values\n",
        "class AdditionalValidationSets(tf.keras.callbacks.Callback):\n",
        "    def __init__(self, validation_sets, verbose=0, batch_size=None):\n",
        "        \"\"\"\n",
        "        :param validation_sets:\n",
        "        a list of 3-tuples (validation_data, validation_targets, validation_set_name)\n",
        "        or 4-tuples (validation_data, validation_targets, sample_weights, validation_set_name)\n",
        "        :param verbose:\n",
        "        verbosity mode, 1 or 0\n",
        "        :param batch_size:\n",
        "        batch size to be used when evaluating on the additional datasets\n",
        "        \"\"\"\n",
        "        super(AdditionalValidationSets, self).__init__()\n",
        "        self.validation_sets = validation_sets\n",
        "        for validation_set in self.validation_sets:\n",
        "            if len(validation_set) not in [3, 4]:\n",
        "                raise ValueError()\n",
        "        self.epoch = []\n",
        "        self.history = {}\n",
        "        self.verbose = verbose\n",
        "        self.batch_size = batch_size\n",
        "\n",
        "    def on_train_begin(self, logs=None):\n",
        "        self.epoch = []\n",
        "        self.history = {}\n",
        "\n",
        "    def on_epoch_end(self, epoch, logs=None):\n",
        "        logs = logs or {}\n",
        "        self.epoch.append(epoch)\n",
        "\n",
        "        # record the same values as History() as well\n",
        "        for k, v in logs.items():\n",
        "            self.history.setdefault(k, []).append(v)\n",
        "\n",
        "        # evaluate on the additional validation sets\n",
        "        for validation_set in self.validation_sets:\n",
        "            if len(validation_set) == 3:\n",
        "                validation_data, validation_targets, validation_set_name = validation_set\n",
        "                sample_weights = None\n",
        "            elif len(validation_set) == 4:\n",
        "                validation_data, validation_targets, sample_weights, validation_set_name = validation_set\n",
        "            else:\n",
        "                raise ValueError()\n",
        "\n",
        "            results = self.model.evaluate(x=validation_data,\n",
        "                                          y=validation_targets,\n",
        "                                          verbose=self.verbose,\n",
        "                                          sample_weight=sample_weights,\n",
        "                                          batch_size=self.batch_size)\n",
        "\n",
        "            for metric, result in zip(self.model.metrics_names,results):\n",
        "                valuename = validation_set_name + '_' + metric\n",
        "                self.history.setdefault(valuename, []).append(result)\n",
        "\n",
        "#########################################################################################################################################################################"
      ],
      "execution_count": 5,
      "outputs": [
        {
          "output_type": "stream",
          "text": [
            "`%tensorflow_version` only switches the major version: 1.x or 2.x.\n",
            "You set: `2.x  # this line is not required unless you are in a notebook`. This will be interpreted as: `2.x`.\n",
            "\n",
            "\n",
            "TensorFlow 2.x selected.\n",
            "unknown option --versions\n",
            "usage: python3 [option] ... [-c cmd | -m mod | file | -] [arg] ...\n",
            "Try `python -h' for more information.\n",
            "Numpy 1.19.5\n",
            "TensorFlow 2.4.1\n",
            "Keras 2.4.0\n"
          ],
          "name": "stdout"
        }
      ]
    },
    {
      "cell_type": "markdown",
      "metadata": {
        "id": "JA_bgfoyn8MT"
      },
      "source": [
        "# **UPLOADING DATA**"
      ]
    },
    {
      "cell_type": "code",
      "metadata": {
        "colab": {
          "resources": {
            "http://localhost:8080/nbextensions/google.colab/files.js": {
              "data": "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",
              "ok": true,
              "headers": [
                [
                  "content-type",
                  "application/javascript"
                ]
              ],
              "status": 200,
              "status_text": ""
            }
          },
          "base_uri": "https://localhost:8080/",
          "height": 70
        },
        "id": "I2fSREbRMsmZ",
        "outputId": "63ef6564-61db-4872-c53a-d4a08747dc62"
      },
      "source": [
        "\n",
        "file_name = 'data_n08'\n",
        "#Change this to the name of the csv file you are uploading\n",
        "uploaded = files.upload()"
      ],
      "execution_count": 45,
      "outputs": [
        {
          "output_type": "display_data",
          "data": {
            "text/html": [
              "\n",
              "     <input type=\"file\" id=\"files-9b7e7fa8-ee98-4228-8073-2fc6bb8a050f\" name=\"files[]\" multiple disabled\n",
              "        style=\"border:none\" />\n",
              "     <output id=\"result-9b7e7fa8-ee98-4228-8073-2fc6bb8a050f\">\n",
              "      Upload widget is only available when the cell has been executed in the\n",
              "      current browser session. Please rerun this cell to enable.\n",
              "      </output>\n",
              "      <script src=\"/nbextensions/google.colab/files.js\"></script> "
            ],
            "text/plain": [
              "<IPython.core.display.HTML object>"
            ]
          },
          "metadata": {
            "tags": []
          }
        },
        {
          "output_type": "stream",
          "text": [
            "Saving data_n08.csv to data_n08.csv\n"
          ],
          "name": "stdout"
        }
      ]
    },
    {
      "cell_type": "code",
      "metadata": {
        "id": "e1pZ-yRi2jNk",
        "colab": {
          "resources": {
            "http://localhost:8080/nbextensions/google.colab/files.js": {
              "data": "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",
              "ok": true,
              "headers": [
                [
                  "content-type",
                  "application/javascript"
                ]
              ],
              "status": 200,
              "status_text": ""
            }
          },
          "base_uri": "https://localhost:8080/",
          "height": 232
        },
        "outputId": "12a7d3ae-7d25-4293-b58e-c9a7c3a77990"
      },
      "source": [
        "#########################################################################################################################################################################\n",
        "#   Uploading Files\n",
        "#########################################################################################################################################################################\n",
        "data_arr = ['data_n01','data_n02','data_n03','data_n04','data_n05','data_n06','data_n07','data_n08']\n",
        "file_name = data_arr\n",
        "#Change this to the name of the csv file you are uploading\n",
        "uploaded = files.upload()\n",
        "#########################################################################################################################################################################"
      ],
      "execution_count": 2,
      "outputs": [
        {
          "output_type": "display_data",
          "data": {
            "text/html": [
              "\n",
              "     <input type=\"file\" id=\"files-c57f55c2-7307-4206-b0c4-64301618b74f\" name=\"files[]\" multiple disabled\n",
              "        style=\"border:none\" />\n",
              "     <output id=\"result-c57f55c2-7307-4206-b0c4-64301618b74f\">\n",
              "      Upload widget is only available when the cell has been executed in the\n",
              "      current browser session. Please rerun this cell to enable.\n",
              "      </output>\n",
              "      <script src=\"/nbextensions/google.colab/files.js\"></script> "
            ],
            "text/plain": [
              "<IPython.core.display.HTML object>"
            ]
          },
          "metadata": {
            "tags": []
          }
        },
        {
          "output_type": "stream",
          "text": [
            "Saving data_n01.csv to data_n01.csv\n",
            "Saving data_n02.csv to data_n02.csv\n",
            "Saving data_n03.csv to data_n03.csv\n",
            "Saving data_n04.csv to data_n04.csv\n",
            "Saving data_n05.csv to data_n05.csv\n",
            "Saving data_n06.csv to data_n06.csv\n"
          ],
          "name": "stdout"
        }
      ]
    },
    {
      "cell_type": "code",
      "metadata": {
        "colab": {
          "base_uri": "https://localhost:8080/",
          "height": 281
        },
        "id": "qf1Ru_PAEv5S",
        "cellView": "code",
        "outputId": "f937b5be-bfee-4e06-d404-2ce80c1f6977"
      },
      "source": [
        "#Verify that the data files are unique and have around the same data for each posture\n",
        "data_arr = ['data_n01','data_n02','data_n03','data_n04','data_n05','data_n06','data_n07','data_n08']\n",
        "dd1 = 'data_n01'\n",
        "dd2 = 'data_n02'\n",
        "dd3 = 'data_n03'\n",
        "dd4 = 'data_n04'\n",
        "dd5 = 'data_n05'\n",
        "dd6 = 'data_n06'\n",
        "dd7 = 'data_n07'\n",
        "dd8 = 'data_n08'\n",
        "imp_dd1 = pd.read_csv(dd1+'.csv')\n",
        "imp_dd2 = pd.read_csv(dd2+'.csv')\n",
        "imp_dd3 = pd.read_csv(dd3+'.csv')\n",
        "imp_dd4 = pd.read_csv(dd4+'.csv')\n",
        "imp_dd5 = pd.read_csv(dd5+'.csv')\n",
        "imp_dd6 = pd.read_csv(dd6+'.csv')\n",
        "imp_dd7 = pd.read_csv(dd7+'.csv')\n",
        "imp_dd8 = pd.read_csv(dd8+'.csv')\n",
        "plt.subplot(2,4,1)\n",
        "imp_dd1.Class.hist()\n",
        "plt.subplot(2,4,2)\n",
        "imp_dd2.Class.hist()\n",
        "plt.subplot(2,4,3)\n",
        "imp_dd3.Class.hist()\n",
        "plt.subplot(2,4,4)\n",
        "imp_dd4.Class.hist()\n",
        "plt.subplot(2,4,5)\n",
        "imp_dd5.Class.hist()\n",
        "plt.subplot(2,4,6)\n",
        "imp_dd6.Class.hist()\n",
        "plt.subplot(2,4,7)\n",
        "imp_dd7.Class.hist()\n",
        "plt.subplot(2,4,8)\n",
        "imp_dd8.Class.hist()"
      ],
      "execution_count": 48,
      "outputs": [
        {
          "output_type": "execute_result",
          "data": {
            "text/plain": [
              "<matplotlib.axes._subplots.AxesSubplot at 0x7f5b41f65590>"
            ]
          },
          "metadata": {
            "tags": []
          },
          "execution_count": 48
        },
        {
          "output_type": "display_data",
          "data": {
            "image/png": "[encoded data removed]",
            "text/plain": [
              "<Figure size 432x288 with 8 Axes>"
            ]
          },
          "metadata": {
            "tags": [],
            "needs_background": "light"
          }
        }
      ]
    },
    {
      "cell_type": "markdown",
      "metadata": {
        "id": "ai8pZ_-3oClZ"
      },
      "source": [
        "# **DATA PROCESSING**"
      ]
    },
    {
      "cell_type": "code",
      "metadata": {
        "id": "P7PSIBCDgXXV"
      },
      "source": [
        "#########################################################################################################################################################################\n",
        "#   This block of code is for processing the data, made into a function to implement n-fold cross validation\n",
        "#########################################################################################################################################################################\n",
        "\n",
        "def get_data(i):\n",
        "\n",
        "  #Change these\n",
        "  train_row_increments = 5\n",
        "  test_row_increments = 5\n",
        "\n",
        "  #Initialize variables\n",
        "  data_arr = ['data_n01','data_n02','data_n03','data_n04','data_n05','data_n06','data_n07','data_n08']\n",
        "  test_data = data_arr[i]\n",
        "  data_arr.remove(data_arr[i])\n",
        "  train_data_01 = data_arr[0]\n",
        "  train_data_02 = data_arr[1]\n",
        "  train_data_03 = data_arr[2]\n",
        "  train_data_04 = data_arr[3]\n",
        "  train_data_05 = data_arr[4]\n",
        "  train_data_06 = data_arr[5]\n",
        "  train_data_07 = data_arr[6]\n",
        "  # train_data_08 = data_arr[7]\n",
        "\n",
        "  #Initialize dataframes for storing the data and combine them \n",
        "  train_data1 = pd.read_csv(train_data_01+'.csv')\n",
        "  train_data2 = pd.read_csv(train_data_02+'.csv')\n",
        "  train_data3 = pd.read_csv(train_data_03+'.csv')\n",
        "  train_data4 = pd.read_csv(train_data_04+'.csv')\n",
        "  train_data5 = pd.read_csv(train_data_05+'.csv')\n",
        "  train_data6 = pd.read_csv(train_data_06+'.csv')\n",
        "  train_data7 = pd.read_csv(train_data_07+'.csv')\n",
        "  # train_data8 = pd.read_csv(train_data_08+'.csv')\n",
        "  train_data_combined = pd.concat([train_data1,train_data2,train_data3,train_data4,train_data5,train_data6,train_data7],ignore_index=True)\n",
        "\n",
        "  #Rearrange the data such that all IMUs share the \"same\" orientation, this allows us to try feeding relative IMU angles instead of raw IMU angles\n",
        "  temp = train_data_combined['x1']\n",
        "  train_data_combined['x1'] = train_data_combined['y1']*-1\n",
        "  train_data_combined['y1'] = temp\n",
        "  temp = train_data_combined['x2']\n",
        "  train_data_combined['x2']=train_data_combined['y2']\n",
        "  train_data_combined['y2']=temp\n",
        "\n",
        "  train_data_combined['x1'] = train_data_combined['x1']-train_data_combined['x3']\n",
        "  train_data_combined['y1'] = train_data_combined['y1']-train_data_combined['y3']\n",
        "  train_data_combined['z1'] = train_data_combined['z1']-train_data_combined['z3']\n",
        "  train_data_combined['x2'] = train_data_combined['x2']-train_data_combined['x3']\n",
        "  train_data_combined['y2'] = train_data_combined['y2']-train_data_combined['y3']\n",
        "  train_data_combined['z2'] = train_data_combined['z2']-train_data_combined['z3']\n",
        "  train_data_combined['x3'] = train_data_combined['x3']-train_data_combined['x4']\n",
        "  train_data_combined['y3'] = train_data_combined['y3']-train_data_combined['y4']\n",
        "  train_data_combined['z3'] = train_data_combined['z3']-train_data_combined['z4']\n",
        "\n",
        "  #Process the data::\n",
        "  train_data_sampled = train_data_combined[1::train_row_increments]#sample every few rows to improve training data (IMUs give data very frequently so the data is very similar)\n",
        "  data_shuffled = train_data_sampled.sample(frac=1).reset_index(drop=True)#shuffle it\n",
        "  d0 = data_shuffled.loc[data_shuffled['Class'] == 0]#split the data by their posture, the data remains ordered (post shuffle)\n",
        "  d1 = data_shuffled.loc[data_shuffled['Class'] == 1]\n",
        "  d2 = data_shuffled.loc[data_shuffled['Class'] == 2]\n",
        "  d3 = data_shuffled.loc[data_shuffled['Class'] == 3]\n",
        "  d4 = data_shuffled.loc[data_shuffled['Class'] == 4]\n",
        "  min_class = min(len(d0),len(d1),len(d2),len(d3),len(d4))\n",
        "  d0_split = d0.sample(frac=(min_class/len(d0)),random_state=1) #slice so that all postures have same number of data entries\n",
        "  d1_split = d1.sample(frac=(min_class/len(d1)),random_state=1) \n",
        "  d2_split = d2.sample(frac=(min_class/len(d2)),random_state=1) \n",
        "  d3_split = d3.sample(frac=(min_class/len(d3)),random_state=1) \n",
        "  d4_split = d4.sample(frac=(min_class/len(d4)),random_state=1) \n",
        "  data_final_combine = pd.concat([d0_split,d1_split,d2_split,d3_split,d4_split],ignore_index=True)#combine them\n",
        "  data_processed = data_final_combine.sample(frac=1).reset_index(drop=True)#shuffle again\n",
        "  posture_processed = data_processed.pop('Class')\n",
        "  data_processed = data_processed/180 #you want the data to be between -1 and 1, the IMU code restricts the angles between 180 and -180\n",
        "\n",
        "  global x_val,x_train,y_val,y_train,x_val_test,y_val_test\n",
        "\n",
        "  #Split the data into 2 sets:: Training and Validation(used to check against overfitting, you dont want training accuracy to be over validation) \n",
        "  val_ratio = 0.3    # Percentage of samples that should be held for validation set\n",
        "  length_data_processed = data_processed.shape[0]\n",
        "  val_split = int(val_ratio * length_data_processed)\n",
        "  x_val, x_train = np.split(data_processed, [val_split])\n",
        "  y_val, y_train = np.split(posture_processed, [val_split])\n",
        "  assert(x_train.size + x_val.size) == data_processed.size\n",
        "\n",
        "  #Process the data for the testing data (This will be data from a new user that has never had their data in the training set)\n",
        "  x_val_test = pd.read_csv(test_data+'.csv')\n",
        "  x_val_test = x_val_test[1::test_row_increments]\n",
        "  x_val_test = x_val_test.sample(frac=1).reset_index(drop=True)\n",
        "  y_val_test = x_val_test.pop('Class')\n",
        "  x_val_test = x_val_test/ 180\n",
        "\n",
        "  #Rearrange the data\n",
        "  temp = x_val_test['x1']\n",
        "  x_val_test['x1'] = x_val_test['y1']*-1\n",
        "  x_val_test['y1'] = temp\n",
        "  temp = x_val_test['x2']\n",
        "  x_val_test['x2']=x_val_test['y2']\n",
        "  x_val_test['y2']=temp\n",
        "\n",
        "  x_val_test['x1'] = x_val_test['x1']-x_val_test['x3']\n",
        "  x_val_test['y1'] = x_val_test['y1']-x_val_test['y3']\n",
        "  x_val_test['z1'] = x_val_test['z1']-x_val_test['z3']\n",
        "  x_val_test['x2'] = x_val_test['x2']-x_val_test['x3']\n",
        "  x_val_test['y2'] = x_val_test['y2']-x_val_test['y3']\n",
        "  x_val_test['z2'] = x_val_test['z2']-x_val_test['z3']\n",
        "  x_val_test['x3'] = x_val_test['x3']-x_val_test['x4']\n",
        "  x_val_test['y3'] = x_val_test['y3']-x_val_test['y4']\n",
        "  x_val_test['z3'] = x_val_test['z3']-x_val_test['z4']\n",
        "\n",
        "#########################################################################################################################################################################"
      ],
      "execution_count": 59,
      "outputs": []
    },
    {
      "cell_type": "markdown",
      "metadata": {
        "id": "pA5_-TdtoF_8"
      },
      "source": [
        "# **MODEL CREATION**"
      ]
    },
    {
      "cell_type": "code",
      "metadata": {
        "colab": {
          "base_uri": "https://localhost:8080/",
          "height": 1000
        },
        "id": "ctSnkzEK1nCv",
        "outputId": "8ccc59ab-63e4-42db-c194-4589d471d586"
      },
      "source": [
        "#########################################################################################################################################################################\n",
        "#   This block of code is for trying different model configurations and seeing what works best\n",
        "#########################################################################################################################################################################\n",
        "\n",
        "Save_Performance = True\n",
        "Custom_Learn_Rate = False\n",
        "Verbose = 2 \n",
        "Visualize = True\n",
        "\n",
        "#Affects the range of layers that the models will have and how much times we want to test that setup\n",
        "layer_1_itr = 5       #how many different first layer sizes to try\n",
        "layer_2_itr = 5       #how many different second layer sizes to try\n",
        "test_per_config = 16   #how many times we want to test one model spec *(use multiple of total datasets)*\n",
        "\n",
        "hidden_layer_1 = 60\n",
        "hidden_layer_2 = 30\n",
        "hidden_layer_1_interval = 5\n",
        "hidden_layer_2_interval = 5\n",
        "\n",
        "starting_num_epochs = 30\n",
        "\n",
        "dropout_percent = 0.2\n",
        "callback_patience=3\n",
        "decay_rate = 0.90\n",
        "decay_steps = 200\n",
        "\n",
        "saved_metric_name = 'Model_Creation_8_DS_01' #A file under this name will be saved containing the performance of different model configurations\n",
        "saved_acc_name = 'Acc_'+saved_metric_name\n",
        "#########################################################################################################################################################################\n",
        "\n",
        "#Only for telling us how much more models will be tested\n",
        "curr_run = 0\n",
        "total_run = layer_1_itr*layer_2_itr*test_per_config \n",
        "\n",
        "test_history = pd.DataFrame(columns=['Accuracy','Layer 1','Layer 2','Dropout %','Average of','Patience','IN Learning Rate','decay_rate','decay_steps'])#stores performance stats\n",
        "acc_history = pd.DataFrame(columns=['Run','Accuracy','Layer 1','Layer 2','Dropout %','Average of','Patience','IN Learning Rate','decay_rate','decay_steps'])\n",
        "for i in range(0,layer_1_itr):\n",
        "  for j in range(0,layer_2_itr):\n",
        "    average_accuracy = 0;\n",
        "    for k in range(0,test_per_config):\n",
        "      get_data(curr_run%8)\n",
        "      if Visualize: #to verify data being passed through looks good\n",
        "        plt.subplot(1,3,1)\n",
        "        y_train.hist() #displays the histogram based on posture\n",
        "        plt.title(\"Training\")\n",
        "        plt.xlabel('postures')\n",
        "        plt.subplot(1,3,2)\n",
        "        y_val_test.hist()\n",
        "        plt.title(\"Test\")\n",
        "        plt.xlabel('postures')\n",
        "\n",
        "      initial_learning_rate = (hidden_layer_1+i*hidden_layer_1_interval)/10000\n",
        "\n",
        "      #Creates the model structure and chooses the activation function for each layer\n",
        "      model = tf.keras.Sequential([                      \n",
        "          tf.keras.layers.Flatten(input_shape=(12,1)),\n",
        "          tf.keras.layers.Dense(hidden_layer_1+i*hidden_layer_1_interval, activation='relu', name= \"Layer_1\",kernel_initializer='random_normal'),  #hidden layers are generally: relu, sigmoid, tanh (Usually constant for all hidden layers)\n",
        "          tf.keras.layers.Dropout(dropout_percent), #dropouts only occur during training\n",
        "          tf.keras.layers.Dense(hidden_layer_2+j*hidden_layer_2_interval, activation='relu', name= \"Layer_2\",kernel_initializer='random_normal'),  \n",
        "          tf.keras.layers.Dropout(dropout_percent),\n",
        "          tf.keras.layers.Dense(5, activation='linear', name= \"Predicted_Posture\"), #output layers are generally: linear, sigmoid, softmax\n",
        "      ])\n",
        "\n",
        "      if Visualize:\n",
        "        model.summary()\n",
        "\n",
        "      #Stops the model training early to prevent overfitting\n",
        "      callbacks = [\n",
        "      tf.keras.callbacks.EarlyStopping(# Stop training when `val_loss` is no longer improving\n",
        "          monitor=\"val_accuracy\",\n",
        "          # min_delta=callback_delta,\n",
        "          mode='auto',\n",
        "          patience=callback_patience,# \"no longer improving\" being further defined as \"for at least x epochs\"\n",
        "          verbose=1,\n",
        "        )\n",
        "      ] \n",
        "\n",
        "      #Adds the x_val dataset to be tested \n",
        "      val_test = AdditionalValidationSets([(x_val, y_val, 'val2')])\n",
        "\n",
        "      #Saves the models when the accuracy is highest based on the test values\n",
        "      checkpoint_path = \"training_\"+str(curr_run)+\"/cp.ckpt\"\n",
        "      checkpoint_dir = os.path.dirname(checkpoint_path)\n",
        "      cp_callback = tf.keras.callbacks.ModelCheckpoint(filepath=checkpoint_path, monitor=\"val_accuracy\",mode= \"auto\",save_best_only=True,save_weights_only=True,verbose=Verbose)\n",
        "\n",
        "      #Assign type of: optimizer, loss, and metric\n",
        "      lr_schedule = tf.keras.optimizers.schedules.ExponentialDecay(initial_learning_rate, decay_steps=decay_steps, decay_rate=decay_rate, staircase=True)\n",
        "      opt = tf.keras.optimizers.Adam(learning_rate=lr_schedule)\n",
        "      model.compile(optimizer='adam',loss=tf.keras.losses.SparseCategoricalCrossentropy(from_logits=True),metrics=['accuracy'])\n",
        "\n",
        "      #Print out which loop we are undergoing\n",
        "      print(str(curr_run+1)+\" out of \"+str(total_run) + \" runs\")\n",
        "\n",
        "      #Train the model with the training data and save the stats in history\n",
        "      history = model.fit(x_train,y_train,epochs=starting_num_epochs,callbacks = [val_test,callbacks,cp_callback],validation_data=(x_val_test, y_val_test),shuffle = True, verbose= Verbose)\n",
        "\n",
        "      if Visualize:#Plots the training vs validation loss\n",
        "        loss = history.history['loss']\n",
        "        test_loss = history.history['val_loss']\n",
        "        val_loss = val_test.history['val2_loss']\n",
        "        epochs = history.epoch\n",
        "        plt.subplot(1,3,3)\n",
        "        plt.plot(epochs, loss, 'bo', label='Training loss')\n",
        "        plt.plot(epochs, val_loss, 'r', label='Validation loss')\n",
        "        plt.plot(epochs, test_loss, 'g', label='Test loss')\n",
        "        plt.title('Training and validation loss')\n",
        "        plt.legend()\n",
        "        plt.show()\n",
        "\n",
        "      \n",
        "      test_loss, test_acc = model.evaluate(x_val_test,  y_val_test, verbose=Verbose)\n",
        "      if Verbose!=0: #Test the model with unseen data and record the settings\n",
        "        print('\\nTest accuracy:', test_acc)\n",
        "\n",
        "      if Visualize:\n",
        "        #create a confusion matrix to see model performance\n",
        "        predictions = model.predict(x_val_test)\n",
        "        predictions = np.argmax(predictions,axis = 1)\n",
        "        confusion_mtx = tf.math.confusion_matrix(\n",
        "            y_val_test, predictions, 5, weights=None, dtype=tf.dtypes.int32,\n",
        "            name='PCD_Confusion_Matrix'\n",
        "        )\n",
        "        plt.figure(figsize=(10, 8))\n",
        "        sns.heatmap(confusion_mtx,annot=True, fmt='g')\n",
        "        plt.xlabel('Prediction')\n",
        "        plt.ylabel('Label')\n",
        "        plt.show()\n",
        "      average_accuracy = average_accuracy + test_acc\n",
        "      acc_row = {'Run':curr_run,'Accuracy':average_accuracy,'Layer 1':hidden_layer_1+i*hidden_layer_1_interval,'Layer 2':hidden_layer_2+j*hidden_layer_2_interval,'Dropout %':dropout_percent,\n",
        "               'Average of':test_per_config,'Patience':callback_patience,'IN Learning Rate':initial_learning_rate,'decay_rate':decay_rate,'decay_steps':decay_steps}\n",
        "      acc_history = acc_history.append(acc_row, ignore_index=True)\n",
        "      curr_run = curr_run + 1\n",
        "\n",
        "    #Records the test results for specific model configuration\n",
        "    average_accuracy = average_accuracy/test_per_config\n",
        "    new_row = {'Accuracy':average_accuracy,'Layer 1':hidden_layer_1+i*hidden_layer_1_interval,'Layer 2':hidden_layer_2+j*hidden_layer_2_interval,'Dropout %':dropout_percent,\n",
        "               'Average of':test_per_config,'Patience':callback_patience,'IN Learning Rate':initial_learning_rate,'decay_rate':decay_rate,'decay_steps':decay_steps}\n",
        "    test_history = test_history.append(new_row, ignore_index=True)\n",
        "\n",
        "#Saves performance data\n",
        "if Save_Performance:\n",
        "  test_history.to_csv(saved_metric_name+\".csv\",index=False)\n",
        "  from google.colab import files\n",
        "  files.download(saved_metric_name+\".csv\")\n",
        "  acc_history.to_csv(saved_acc_name+\".csv\",index=False)\n",
        "  from google.colab import files\n",
        "  files.download(saved_acc_name+\".csv\")\n",
        "#########################################################################################################################################################################"
      ],
      "execution_count": 69,
      "outputs": [
        {
          "output_type": "stream",
          "text": [
            "Model: \"sequential_71\"\n",
            "_________________________________________________________________\n",
            "Layer (type)                 Output Shape              Param #   \n",
            "=================================================================\n",
            "flatten_71 (Flatten)         (None, 12)                0         \n",
            "_________________________________________________________________\n",
            "Layer_1 (Dense)              (None, 60)                780       \n",
            "_________________________________________________________________\n",
            "dropout_142 (Dropout)        (None, 60)                0         \n",
            "_________________________________________________________________\n",
            "Layer_2 (Dense)              (None, 30)                1830      \n",
            "_________________________________________________________________\n",
            "dropout_143 (Dropout)        (None, 30)                0         \n",
            "_________________________________________________________________\n",
            "Predicted_Posture (Dense)    (None, 5)                 155       \n",
            "=================================================================\n",
            "Total params: 2,765\n",
            "Trainable params: 2,765\n",
            "Non-trainable params: 0\n",
            "_________________________________________________________________\n",
            "1 out of 1 runs\n",
            "Epoch 1/30\n",
            "395/395 - 2s - loss: 1.4231 - accuracy: 0.3932 - val_loss: 1.3428 - val_accuracy: 0.3914\n",
            "\n",
            "Epoch 00001: val_accuracy improved from -inf to 0.39137, saving model to training_0/cp.ckpt\n",
            "Epoch 2/30\n",
            "395/395 - 1s - loss: 1.1085 - accuracy: 0.5355 - val_loss: 1.0091 - val_accuracy: 0.6593\n",
            "\n",
            "Epoch 00002: val_accuracy improved from 0.39137 to 0.65929, saving model to training_0/cp.ckpt\n",
            "Epoch 3/30\n",
            "395/395 - 1s - loss: 0.9116 - accuracy: 0.6295 - val_loss: 0.8195 - val_accuracy: 0.7415\n",
            "\n",
            "Epoch 00003: val_accuracy improved from 0.65929 to 0.74146, saving model to training_0/cp.ckpt\n",
            "Epoch 4/30\n",
            "395/395 - 1s - loss: 0.7569 - accuracy: 0.7072 - val_loss: 0.7123 - val_accuracy: 0.7895\n",
            "\n",
            "Epoch 00004: val_accuracy improved from 0.74146 to 0.78949, saving model to training_0/cp.ckpt\n",
            "Epoch 5/30\n",
            "395/395 - 1s - loss: 0.6519 - accuracy: 0.7550 - val_loss: 0.6183 - val_accuracy: 0.7944\n",
            "\n",
            "Epoch 00005: val_accuracy improved from 0.78949 to 0.79437, saving model to training_0/cp.ckpt\n",
            "Epoch 6/30\n",
            "395/395 - 1s - loss: 0.5758 - accuracy: 0.7847 - val_loss: 0.5643 - val_accuracy: 0.8079\n",
            "\n",
            "Epoch 00006: val_accuracy improved from 0.79437 to 0.80788, saving model to training_0/cp.ckpt\n",
            "Epoch 7/30\n",
            "395/395 - 1s - loss: 0.5257 - accuracy: 0.7996 - val_loss: 0.5021 - val_accuracy: 0.8169\n",
            "\n",
            "Epoch 00007: val_accuracy improved from 0.80788 to 0.81689, saving model to training_0/cp.ckpt\n",
            "Epoch 8/30\n",
            "395/395 - 1s - loss: 0.4928 - accuracy: 0.8145 - val_loss: 0.4910 - val_accuracy: 0.8218\n",
            "\n",
            "Epoch 00008: val_accuracy improved from 0.81689 to 0.82176, saving model to training_0/cp.ckpt\n",
            "Epoch 9/30\n",
            "395/395 - 1s - loss: 0.4565 - accuracy: 0.8312 - val_loss: 0.5085 - val_accuracy: 0.8008\n",
            "\n",
            "Epoch 00009: val_accuracy did not improve from 0.82176\n",
            "Epoch 10/30\n",
            "395/395 - 1s - loss: 0.4300 - accuracy: 0.8351 - val_loss: 0.5196 - val_accuracy: 0.7974\n",
            "\n",
            "Epoch 00010: val_accuracy did not improve from 0.82176\n",
            "Epoch 11/30\n",
            "395/395 - 1s - loss: 0.4058 - accuracy: 0.8462 - val_loss: 0.4386 - val_accuracy: 0.8218\n",
            "\n",
            "Epoch 00011: val_accuracy did not improve from 0.82176\n",
            "Epoch 12/30\n",
            "395/395 - 1s - loss: 0.3945 - accuracy: 0.8507 - val_loss: 0.5405 - val_accuracy: 0.7947\n",
            "\n",
            "Epoch 00012: val_accuracy did not improve from 0.82176\n",
            "Epoch 00012: early stopping\n"
          ],
          "name": "stdout"
        },
        {
          "output_type": "display_data",
          "data": {
            "image/png": "[encoded data removed]",
            "text/plain": [
              "<Figure size 432x288 with 3 Axes>"
            ]
          },
          "metadata": {
            "tags": [],
            "needs_background": "light"
          }
        },
        {
          "output_type": "stream",
          "text": [
            "84/84 - 0s - loss: 0.5405 - accuracy: 0.7947\n",
            "\n",
            "Test accuracy: 0.7947466969490051\n"
          ],
          "name": "stdout"
        },
        {
          "output_type": "display_data",
          "data": {
            "image/png": "[encoded data removed]",
            "text/plain": [
              "<Figure size 720x576 with 2 Axes>"
            ]
          },
          "metadata": {
            "tags": [],
            "needs_background": "light"
          }
        },
        {
          "output_type": "display_data",
          "data": {
            "application/javascript": [
              "\n",
              "    async function download(id, filename, size) {\n",
              "      if (!google.colab.kernel.accessAllowed) {\n",
              "        return;\n",
              "      }\n",
              "      const div = document.createElement('div');\n",
              "      const label = document.createElement('label');\n",
              "      label.textContent = `Downloading \"${filename}\": `;\n",
              "      div.appendChild(label);\n",
              "      const progress = document.createElement('progress');\n",
              "      progress.max = size;\n",
              "      div.appendChild(progress);\n",
              "      document.body.appendChild(div);\n",
              "\n",
              "      const buffers = [];\n",
              "      let downloaded = 0;\n",
              "\n",
              "      const channel = await google.colab.kernel.comms.open(id);\n",
              "      // Send a message to notify the kernel that we're ready.\n",
              "      channel.send({})\n",
              "\n",
              "      for await (const message of channel.messages) {\n",
              "        // Send a message to notify the kernel that we're ready.\n",
              "        channel.send({})\n",
              "        if (message.buffers) {\n",
              "          for (const buffer of message.buffers) {\n",
              "            buffers.push(buffer);\n",
              "            downloaded += buffer.byteLength;\n",
              "            progress.value = downloaded;\n",
              "          }\n",
              "        }\n",
              "      }\n",
              "      const blob = new Blob(buffers, {type: 'application/binary'});\n",
              "      const a = document.createElement('a');\n",
              "      a.href = window.URL.createObjectURL(blob);\n",
              "      a.download = filename;\n",
              "      div.appendChild(a);\n",
              "      a.click();\n",
              "      div.remove();\n",
              "    }\n",
              "  "
            ],
            "text/plain": [
              "<IPython.core.display.Javascript object>"
            ]
          },
          "metadata": {
            "tags": []
          }
        },
        {
          "output_type": "display_data",
          "data": {
            "application/javascript": [
              "download(\"download_6912fd56-41aa-4742-aa9e-33945fff3093\", \"Model_Creation_8_DS_01.csv\", 152)"
            ],
            "text/plain": [
              "<IPython.core.display.Javascript object>"
            ]
          },
          "metadata": {
            "tags": []
          }
        },
        {
          "output_type": "display_data",
          "data": {
            "application/javascript": [
              "\n",
              "    async function download(id, filename, size) {\n",
              "      if (!google.colab.kernel.accessAllowed) {\n",
              "        return;\n",
              "      }\n",
              "      const div = document.createElement('div');\n",
              "      const label = document.createElement('label');\n",
              "      label.textContent = `Downloading \"${filename}\": `;\n",
              "      div.appendChild(label);\n",
              "      const progress = document.createElement('progress');\n",
              "      progress.max = size;\n",
              "      div.appendChild(progress);\n",
              "      document.body.appendChild(div);\n",
              "\n",
              "      const buffers = [];\n",
              "      let downloaded = 0;\n",
              "\n",
              "      const channel = await google.colab.kernel.comms.open(id);\n",
              "      // Send a message to notify the kernel that we're ready.\n",
              "      channel.send({})\n",
              "\n",
              "      for await (const message of channel.messages) {\n",
              "        // Send a message to notify the kernel that we're ready.\n",
              "        channel.send({})\n",
              "        if (message.buffers) {\n",
              "          for (const buffer of message.buffers) {\n",
              "            buffers.push(buffer);\n",
              "            downloaded += buffer.byteLength;\n",
              "            progress.value = downloaded;\n",
              "          }\n",
              "        }\n",
              "      }\n",
              "      const blob = new Blob(buffers, {type: 'application/binary'});\n",
              "      const a = document.createElement('a');\n",
              "      a.href = window.URL.createObjectURL(blob);\n",
              "      a.download = filename;\n",
              "      div.appendChild(a);\n",
              "      a.click();\n",
              "      div.remove();\n",
              "    }\n",
              "  "
            ],
            "text/plain": [
              "<IPython.core.display.Javascript object>"
            ]
          },
          "metadata": {
            "tags": []
          }
        },
        {
          "output_type": "display_data",
          "data": {
            "application/javascript": [
              "download(\"download_ac119ef3-29dd-421d-8bcb-48e042893156\", \"Acc_Model_Creation_8_DS_01.csv\", 160)"
            ],
            "text/plain": [
              "<IPython.core.display.Javascript object>"
            ]
          },
          "metadata": {
            "tags": []
          }
        }
      ]
    },
    {
      "cell_type": "markdown",
      "metadata": {
        "id": "4oOkPNo14dA0"
      },
      "source": [
        "# **TESTING MODELS**\n"
      ]
    },
    {
      "cell_type": "code",
      "metadata": {
        "id": "duN1uTj1jfBR"
      },
      "source": [
        "def plot_roc(name, labels, predictions, **kwargs):\n",
        "  fp, tp, _ = sklearn.metrics.roc_curve(labels, predictions)\n",
        "\n",
        "  plt.plot(100*fp, 100*tp, label=name, linewidth=2, **kwargs)\n",
        "  plt.xlabel('False positives [%]')\n",
        "  plt.ylabel('True positives [%]')\n",
        "  plt.xlim([-0.5,20])\n",
        "  plt.ylim([80,100.5])\n",
        "  plt.grid(True)\n",
        "  ax = plt.gca()\n",
        "  ax.set_aspect('equal')"
      ],
      "execution_count": null,
      "outputs": []
    },
    {
      "cell_type": "markdown",
      "metadata": {
        "id": "H6FJjm5jhfAs"
      },
      "source": [
        "*Select the specific traing_x model that you want to reload*\n"
      ]
    },
    {
      "cell_type": "code",
      "metadata": {
        "id": "jq9GIepY7Rx7"
      },
      "source": [
        "def softmax(x):\n",
        "    pred = np.empty((len(x),5),float)\n",
        "    for i in range(0,len(x)):\n",
        "      row = x[i:i+1];\n",
        "      ex = np.exp(row)\n",
        "      sum_ex = np.sum(np.exp(row))\n",
        "      pred[i:i+1]=ex/sum_ex\n",
        "    return pred"
      ],
      "execution_count": null,
      "outputs": []
    },
    {
      "cell_type": "code",
      "metadata": {
        "colab": {
          "base_uri": "https://localhost:8080/",
          "height": 265
        },
        "id": "bhaZARoSfhFo",
        "outputId": "64fed869-80fb-43ab-d841-f50a7b0c8b65"
      },
      "source": [
        "  data_arr = ['data_n01','data_n02','data_n03','data_n04','data_n06']\n",
        "  test_data_01 = data_arr[0]\n",
        "  test_data_02 = data_arr[1]\n",
        "  test_data_03 = data_arr[2]\n",
        "  test_data_04 = data_arr[3]\n",
        "  test_data_05 = data_arr[4]\n",
        "\n",
        "  #Initialize dataframes for storing the data and combine them \n",
        "  test_data1 = pd.read_csv(test_data_01+'.csv')\n",
        "  test_data2 = pd.read_csv(test_data_02+'.csv')\n",
        "  test_data3 = pd.read_csv(test_data_03+'.csv')\n",
        "  test_data4 = pd.read_csv(test_data_04+'.csv')\n",
        "  test_data5 = pd.read_csv(test_data_05+'.csv')\n",
        "  test_data_combined = pd.concat([test_data5],ignore_index=True)\n",
        "  # test_data_combined = pd.concat([test_data1,test_data2,test_data3,test_data4,test_data5],ignore_index=True)\n",
        "  test_data_combined.Class.hist()\n",
        "\n",
        "  test_label = test_data_combined.pop(\"Class\")\n",
        "  test_data_combined = test_data_combined/180\n",
        "\n",
        "  temp = test_data_combined['x1']\n",
        "  test_data_combined['x1'] = test_data_combined['y1']*-1\n",
        "  test_data_combined['y1'] = temp\n",
        "  temp = test_data_combined['x2']\n",
        "  test_data_combined['x2']=test_data_combined['y2']\n",
        "  test_data_combined['y2']=temp\n",
        "\n",
        "  test_data_combined['x1'] = test_data_combined['x1']-test_data_combined['x3']\n",
        "  test_data_combined['y1'] = test_data_combined['y1']-test_data_combined['y3']\n",
        "  test_data_combined['z1'] = test_data_combined['z1']-test_data_combined['z3']\n",
        "  test_data_combined['x2'] = test_data_combined['x2']-test_data_combined['x3']\n",
        "  test_data_combined['y2'] = test_data_combined['y2']-test_data_combined['y3']\n",
        "  test_data_combined['z2'] = test_data_combined['z2']-test_data_combined['z3']\n",
        "  test_data_combined['x3'] = test_data_combined['x3']-test_data_combined['x4']\n",
        "  test_data_combined['y3'] = test_data_combined['y3']-test_data_combined['y4']\n",
        "  test_data_combined['z3'] = test_data_combined['z3']-test_data_combined['z4']\n",
        "  "
      ],
      "execution_count": 24,
      "outputs": [
        {
          "output_type": "display_data",
          "data": {
            "image/png": "[encoded data removed]",
            "text/plain": [
              "<Figure size 432x288 with 1 Axes>"
            ]
          },
          "metadata": {
            "tags": [],
            "needs_background": "light"
          }
        }
      ]
    },
    {
      "cell_type": "code",
      "metadata": {
        "colab": {
          "base_uri": "https://localhost:8080/"
        },
        "id": "zL5ko0Z39oFA",
        "outputId": "5e44af92-1c4d-4307-d9c0-2244bc7dd1b5"
      },
      "source": [
        "# Loads the weights\n",
        "model.load_weights(\"training_7/cp.ckpt\")\n",
        "\n",
        "# Re-evaluate the model\n",
        "loss, acc = model.evaluate(x_val_test, y_val_test, verbose=2)\n",
        "print(\"Restored model, accuracy: {:5.2f}%\".format(100 * acc))"
      ],
      "execution_count": 20,
      "outputs": [
        {
          "output_type": "stream",
          "text": [
            "81/81 - 0s - loss: 0.3308 - accuracy: 0.9179\n",
            "Restored model, accuracy: 91.79%\n"
          ],
          "name": "stdout"
        }
      ]
    },
    {
      "cell_type": "code",
      "metadata": {
        "colab": {
          "base_uri": "https://localhost:8080/",
          "height": 497
        },
        "id": "9BhVgNQQgoI0",
        "outputId": "34e03835-a867-442a-a733-02e41ca5e83c"
      },
      "source": [
        "predictions = model.predict(test_data_combined)\n",
        "predictions = np.argmax(predictions,axis = 1)\n",
        "confusion_mtx = tf.math.confusion_matrix(\n",
        "    test_label, predictions, 5, weights=None, dtype=tf.dtypes.int32,\n",
        "    name='PCD_Confusion_Matrix'\n",
        ")\n",
        "plt.figure(figsize=(10, 8))\n",
        "sns.heatmap(confusion_mtx,annot=True, fmt='g')\n",
        "plt.xlabel('Prediction')\n",
        "plt.ylabel('Label')\n",
        "plt.show()"
      ],
      "execution_count": 25,
      "outputs": [
        {
          "output_type": "display_data",
          "data": {
            "image/png": "[encoded data removed]",
            "text/plain": [
              "<Figure size 720x576 with 2 Axes>"
            ]
          },
          "metadata": {
            "tags": [],
            "needs_background": "light"
          }
        }
      ]
    },
    {
      "cell_type": "code",
      "metadata": {
        "colab": {
          "base_uri": "https://localhost:8080/"
        },
        "id": "coSgxodCEqd2",
        "outputId": "c51dca99-f548-49aa-8766-1ceb6e833260"
      },
      "source": [
        "tf.keras.metrics.AUC(\n",
        "    num_thresholds=200, curve='ROC',\n",
        "    summation_method='interpolation', name=None, dtype=None,\n",
        "    thresholds=None, multi_label=False, label_weights=None\n",
        ")"
      ],
      "execution_count": null,
      "outputs": [
        {
          "output_type": "execute_result",
          "data": {
            "text/plain": [
              "<tensorflow.python.keras.metrics.AUC at 0x7f736b433b10>"
            ]
          },
          "metadata": {
            "tags": []
          },
          "execution_count": 49
        }
      ]
    },
    {
      "cell_type": "code",
      "metadata": {
        "id": "gYYzRQsr4G2v"
      },
      "source": [
        "predictions = model.predict(test_data_combined)\n",
        "predictions = softmax(predictions)\n",
        "predictions \n",
        "colors = plt.rcParams['axes.prop_cycle'].by_key()['color']"
      ],
      "execution_count": null,
      "outputs": []
    },
    {
      "cell_type": "code",
      "metadata": {
        "colab": {
          "base_uri": "https://localhost:8080/"
        },
        "id": "flsfeakc3knz",
        "outputId": "a883a837-68ad-4670-87da-8bace220aff5"
      },
      "source": [
        "from sklearn.metrics import roc_auc_score\n",
        "from sklearn.metrics import confusion_matrix\n",
        "from sklearn.model_selection import train_test_split\n",
        "from sklearn.preprocessing import StandardScaler\n",
        "roc_auc_score(test_label,predictions,average='macro',multi_class =\"ovr\",labels = None)"
      ],
      "execution_count": null,
      "outputs": [
        {
          "output_type": "execute_result",
          "data": {
            "text/plain": [
              "0.9863836383723212"
            ]
          },
          "metadata": {
            "tags": []
          },
          "execution_count": 64
        }
      ]
    },
    {
      "cell_type": "code",
      "metadata": {
        "colab": {
          "base_uri": "https://localhost:8080/",
          "height": 328
        },
        "id": "g4frmRbbmgfC",
        "outputId": "3d51988c-e556-478d-fe8f-8a8bb709d643"
      },
      "source": [
        "plot_roc(\"Train Baseline\", y_val_test, predictions, color=colors[0])\n",
        "plt.legend(loc='lower right')"
      ],
      "execution_count": null,
      "outputs": [
        {
          "output_type": "error",
          "ename": "ValueError",
          "evalue": "ignored",
          "traceback": [
            "\u001b[0;31m---------------------------------------------------------------------------\u001b[0m",
            "\u001b[0;31mValueError\u001b[0m                                Traceback (most recent call last)",
            "\u001b[0;32m<ipython-input-33-61e239e66b08>\u001b[0m in \u001b[0;36m<module>\u001b[0;34m()\u001b[0m\n\u001b[0;32m----> 1\u001b[0;31m \u001b[0mplot_roc\u001b[0m\u001b[0;34m(\u001b[0m\u001b[0;34m\"Train Baseline\"\u001b[0m\u001b[0;34m,\u001b[0m \u001b[0my_val_test\u001b[0m\u001b[0;34m,\u001b[0m \u001b[0mpredictions\u001b[0m\u001b[0;34m,\u001b[0m \u001b[0mcolor\u001b[0m\u001b[0;34m=\u001b[0m\u001b[0mcolors\u001b[0m\u001b[0;34m[\u001b[0m\u001b[0;36m0\u001b[0m\u001b[0;34m]\u001b[0m\u001b[0;34m)\u001b[0m\u001b[0;34m\u001b[0m\u001b[0;34m\u001b[0m\u001b[0m\n\u001b[0m\u001b[1;32m      2\u001b[0m \u001b[0mplt\u001b[0m\u001b[0;34m.\u001b[0m\u001b[0mlegend\u001b[0m\u001b[0;34m(\u001b[0m\u001b[0mloc\u001b[0m\u001b[0;34m=\u001b[0m\u001b[0;34m'lower right'\u001b[0m\u001b[0;34m)\u001b[0m\u001b[0;34m\u001b[0m\u001b[0;34m\u001b[0m\u001b[0m\n",
            "\u001b[0;32m<ipython-input-10-d1124e0d10a4>\u001b[0m in \u001b[0;36mplot_roc\u001b[0;34m(name, labels, predictions, **kwargs)\u001b[0m\n\u001b[1;32m      1\u001b[0m \u001b[0;32mdef\u001b[0m \u001b[0mplot_roc\u001b[0m\u001b[0;34m(\u001b[0m\u001b[0mname\u001b[0m\u001b[0;34m,\u001b[0m \u001b[0mlabels\u001b[0m\u001b[0;34m,\u001b[0m \u001b[0mpredictions\u001b[0m\u001b[0;34m,\u001b[0m \u001b[0;34m**\u001b[0m\u001b[0mkwargs\u001b[0m\u001b[0;34m)\u001b[0m\u001b[0;34m:\u001b[0m\u001b[0;34m\u001b[0m\u001b[0;34m\u001b[0m\u001b[0m\n\u001b[0;32m----> 2\u001b[0;31m   \u001b[0mfp\u001b[0m\u001b[0;34m,\u001b[0m \u001b[0mtp\u001b[0m\u001b[0;34m,\u001b[0m \u001b[0m_\u001b[0m \u001b[0;34m=\u001b[0m \u001b[0msklearn\u001b[0m\u001b[0;34m.\u001b[0m\u001b[0mmetrics\u001b[0m\u001b[0;34m.\u001b[0m\u001b[0mroc_curve\u001b[0m\u001b[0;34m(\u001b[0m\u001b[0mlabels\u001b[0m\u001b[0;34m,\u001b[0m \u001b[0mpredictions\u001b[0m\u001b[0;34m)\u001b[0m\u001b[0;34m\u001b[0m\u001b[0;34m\u001b[0m\u001b[0m\n\u001b[0m\u001b[1;32m      3\u001b[0m \u001b[0;34m\u001b[0m\u001b[0m\n\u001b[1;32m      4\u001b[0m   \u001b[0mplt\u001b[0m\u001b[0;34m.\u001b[0m\u001b[0mplot\u001b[0m\u001b[0;34m(\u001b[0m\u001b[0;36m100\u001b[0m\u001b[0;34m*\u001b[0m\u001b[0mfp\u001b[0m\u001b[0;34m,\u001b[0m \u001b[0;36m100\u001b[0m\u001b[0;34m*\u001b[0m\u001b[0mtp\u001b[0m\u001b[0;34m,\u001b[0m \u001b[0mlabel\u001b[0m\u001b[0;34m=\u001b[0m\u001b[0mname\u001b[0m\u001b[0;34m,\u001b[0m \u001b[0mlinewidth\u001b[0m\u001b[0;34m=\u001b[0m\u001b[0;36m2\u001b[0m\u001b[0;34m,\u001b[0m \u001b[0;34m**\u001b[0m\u001b[0mkwargs\u001b[0m\u001b[0;34m)\u001b[0m\u001b[0;34m\u001b[0m\u001b[0;34m\u001b[0m\u001b[0m\n\u001b[1;32m      5\u001b[0m   \u001b[0mplt\u001b[0m\u001b[0;34m.\u001b[0m\u001b[0mxlabel\u001b[0m\u001b[0;34m(\u001b[0m\u001b[0;34m'False positives [%]'\u001b[0m\u001b[0;34m)\u001b[0m\u001b[0;34m\u001b[0m\u001b[0;34m\u001b[0m\u001b[0m\n",
            "\u001b[0;32m/usr/local/lib/python3.7/dist-packages/sklearn/utils/validation.py\u001b[0m in \u001b[0;36minner_f\u001b[0;34m(*args, **kwargs)\u001b[0m\n\u001b[1;32m     61\u001b[0m             \u001b[0mextra_args\u001b[0m \u001b[0;34m=\u001b[0m \u001b[0mlen\u001b[0m\u001b[0;34m(\u001b[0m\u001b[0margs\u001b[0m\u001b[0;34m)\u001b[0m \u001b[0;34m-\u001b[0m \u001b[0mlen\u001b[0m\u001b[0;34m(\u001b[0m\u001b[0mall_args\u001b[0m\u001b[0;34m)\u001b[0m\u001b[0;34m\u001b[0m\u001b[0;34m\u001b[0m\u001b[0m\n\u001b[1;32m     62\u001b[0m             \u001b[0;32mif\u001b[0m \u001b[0mextra_args\u001b[0m \u001b[0;34m<=\u001b[0m \u001b[0;36m0\u001b[0m\u001b[0;34m:\u001b[0m\u001b[0;34m\u001b[0m\u001b[0;34m\u001b[0m\u001b[0m\n\u001b[0;32m---> 63\u001b[0;31m                 \u001b[0;32mreturn\u001b[0m \u001b[0mf\u001b[0m\u001b[0;34m(\u001b[0m\u001b[0;34m*\u001b[0m\u001b[0margs\u001b[0m\u001b[0;34m,\u001b[0m \u001b[0;34m**\u001b[0m\u001b[0mkwargs\u001b[0m\u001b[0;34m)\u001b[0m\u001b[0;34m\u001b[0m\u001b[0;34m\u001b[0m\u001b[0m\n\u001b[0m\u001b[1;32m     64\u001b[0m \u001b[0;34m\u001b[0m\u001b[0m\n\u001b[1;32m     65\u001b[0m             \u001b[0;31m# extra_args > 0\u001b[0m\u001b[0;34m\u001b[0m\u001b[0;34m\u001b[0m\u001b[0;34m\u001b[0m\u001b[0m\n",
            "\u001b[0;32m/usr/local/lib/python3.7/dist-packages/sklearn/metrics/_ranking.py\u001b[0m in \u001b[0;36mroc_curve\u001b[0;34m(y_true, y_score, pos_label, sample_weight, drop_intermediate)\u001b[0m\n\u001b[1;32m    912\u001b[0m     \"\"\"\n\u001b[1;32m    913\u001b[0m     fps, tps, thresholds = _binary_clf_curve(\n\u001b[0;32m--> 914\u001b[0;31m         y_true, y_score, pos_label=pos_label, sample_weight=sample_weight)\n\u001b[0m\u001b[1;32m    915\u001b[0m \u001b[0;34m\u001b[0m\u001b[0m\n\u001b[1;32m    916\u001b[0m     \u001b[0;31m# Attempt to drop thresholds corresponding to points in between and\u001b[0m\u001b[0;34m\u001b[0m\u001b[0;34m\u001b[0m\u001b[0;34m\u001b[0m\u001b[0m\n",
            "\u001b[0;32m/usr/local/lib/python3.7/dist-packages/sklearn/metrics/_ranking.py\u001b[0m in \u001b[0;36m_binary_clf_curve\u001b[0;34m(y_true, y_score, pos_label, sample_weight)\u001b[0m\n\u001b[1;32m    689\u001b[0m     if not (y_type == \"binary\" or\n\u001b[1;32m    690\u001b[0m             (y_type == \"multiclass\" and pos_label is not None)):\n\u001b[0;32m--> 691\u001b[0;31m         \u001b[0;32mraise\u001b[0m \u001b[0mValueError\u001b[0m\u001b[0;34m(\u001b[0m\u001b[0;34m\"{0} format is not supported\"\u001b[0m\u001b[0;34m.\u001b[0m\u001b[0mformat\u001b[0m\u001b[0;34m(\u001b[0m\u001b[0my_type\u001b[0m\u001b[0;34m)\u001b[0m\u001b[0;34m)\u001b[0m\u001b[0;34m\u001b[0m\u001b[0;34m\u001b[0m\u001b[0m\n\u001b[0m\u001b[1;32m    692\u001b[0m \u001b[0;34m\u001b[0m\u001b[0m\n\u001b[1;32m    693\u001b[0m     \u001b[0mcheck_consistent_length\u001b[0m\u001b[0;34m(\u001b[0m\u001b[0my_true\u001b[0m\u001b[0;34m,\u001b[0m \u001b[0my_score\u001b[0m\u001b[0;34m,\u001b[0m \u001b[0msample_weight\u001b[0m\u001b[0;34m)\u001b[0m\u001b[0;34m\u001b[0m\u001b[0;34m\u001b[0m\u001b[0m\n",
            "\u001b[0;31mValueError\u001b[0m: multiclass format is not supported"
          ]
        }
      ]
    },
    {
      "cell_type": "markdown",
      "metadata": {
        "id": "SE1bOWLenGDz"
      },
      "source": [
        "# **CONVERTING THE MODEL**"
      ]
    },
    {
      "cell_type": "code",
      "metadata": {
        "colab": {
          "base_uri": "https://localhost:8080/"
        },
        "id": "iT4YypbHIMur",
        "outputId": "6ac801aa-bb9d-4285-fd4c-b14ac5c326c1"
      },
      "source": [
        "#########################################################################################################################################################################\n",
        "#   Optimize the model for size and convert to tflite model\n",
        "#########################################################################################################################################################################\n",
        "\n",
        "#Covert the model to a tflite model & optimize to reduce the size\n",
        "converter = tf.lite.TFLiteConverter.from_keras_model(model)\n",
        "converter.optimizations = [tf.lite.Optimize.OPTIMIZE_FOR_SIZE]\n",
        "tflite_model = converter.convert()\n",
        "open(tflite_model_name + '.tflite', 'wb').write(tflite_model)\n",
        "\n",
        "#########################################################################################################################################################################"
      ],
      "execution_count": null,
      "outputs": [
        {
          "output_type": "stream",
          "text": [
            "INFO:tensorflow:Assets written to: /tmp/tmpu4c29gjt/assets\n"
          ],
          "name": "stdout"
        },
        {
          "output_type": "execute_result",
          "data": {
            "text/plain": [
              "9168"
            ]
          },
          "metadata": {
            "tags": []
          },
          "execution_count": 48
        }
      ]
    },
    {
      "cell_type": "code",
      "metadata": {
        "id": "fUP0qeH6IAGZ"
      },
      "source": [
        "#########################################################################################################################################################################\n",
        "#   Function to convert tflite file to C header file\n",
        "#########################################################################################################################################################################\n",
        "\n",
        "# Function: Convert some hex value into an array for C programming\n",
        "def hex_to_c_array(hex_data, var_name):\n",
        "\n",
        "  c_str = ''\n",
        "\n",
        "  # Create header guard\n",
        "  c_str += '#ifndef ' + var_name.upper() + '_H\\n'\n",
        "  c_str += '#define ' + var_name.upper() + '_H\\n\\n'\n",
        "\n",
        "  # Add array length at top of file\n",
        "  c_str += '\\nunsigned int ' + var_name + '_len = ' + str(len(hex_data)) + ';\\n'\n",
        "\n",
        "  # Declare C variable\n",
        "  c_str += 'unsigned char ' + var_name + '[] = {'\n",
        "  hex_array = []\n",
        "  for i, val in enumerate(hex_data) :\n",
        "\n",
        "    # Construct string from hex\n",
        "    hex_str = format(val, '#04x')\n",
        "\n",
        "    # Add formatting so each line stays within 80 characters\n",
        "    if (i + 1) < len(hex_data):\n",
        "      hex_str += ','\n",
        "    if (i + 1) % 12 == 0:\n",
        "      hex_str += '\\n '\n",
        "    hex_array.append(hex_str)\n",
        "\n",
        "  # Add closing brace\n",
        "  c_str += '\\n ' + format(' '.join(hex_array)) + '\\n};\\n\\n'\n",
        "\n",
        "  # Close out header guard\n",
        "  c_str += '#endif //' + var_name.upper() + '_H'\n",
        "\n",
        "  return c_str\n",
        "\n",
        "#########################################################################################################################################################################"
      ],
      "execution_count": null,
      "outputs": []
    },
    {
      "cell_type": "code",
      "metadata": {
        "id": "gch2Y9f9IB1E"
      },
      "source": [
        "#########################################################################################################################################################################\n",
        "#   Convert to c-header file via function\n",
        "#########################################################################################################################################################################\n",
        "\n",
        "# Write TFLite model to a C source (or header) file\n",
        "with open(c_model_name + '.h', 'w') as file:\n",
        "  file.write(hex_to_c_array(tflite_model, c_model_name))\n",
        "\n",
        "#########################################################################################################################################################################"
      ],
      "execution_count": null,
      "outputs": []
    }
  ]
}